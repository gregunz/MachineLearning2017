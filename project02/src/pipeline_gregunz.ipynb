{
 "cells": [
  {
   "cell_type": "markdown",
   "metadata": {
    "toc": true
   },
   "source": [
    "<h1>Table of Contents<span class=\"tocSkip\"></span></h1>\n",
    "<div class=\"toc\" style=\"margin-top: 1em;\"><ul class=\"toc-item\"></ul></div>"
   ]
  },
  {
   "cell_type": "code",
   "execution_count": null,
   "metadata": {},
   "outputs": [],
   "source": [
    "import numpy as np\n",
    "import tensorflow as tf\n",
    "\n",
    "from helpers_config import load_config\n",
    "from unet import UNet"
   ]
  },
  {
   "cell_type": "code",
   "execution_count": null,
   "metadata": {},
   "outputs": [],
   "source": [
    "config = load_config(path=\"config.json\")\n",
    "\n",
    "seed = config['seed']\n",
    "np.random.seed(seed)\n",
    "tf.set_random_seed(seed)\n",
    "\n",
    "save_dir = config['dst_path'] + config['model_name'] + \"/\""
   ]
  },
  {
   "cell_type": "code",
   "execution_count": null,
   "metadata": {
    "collapsed": true
   },
   "outputs": [],
   "source": [
    "pipeline = UNet(data_dir=config['data_dir'],\n",
    "                grayscale=config['grayscale'],\n",
    "                tr_losses=config['tr_losses'],\n",
    "                val_losses=config['val_losses'],\n",
    "                patch_size=config['patch_size'],\n",
    "                stride=config['stride'],\n",
    "                telepyth_token=config['telepyth_token'])"
   ]
  },
  {
   "cell_type": "code",
   "execution_count": null,
   "metadata": {
    "scrolled": true
   },
   "outputs": [],
   "source": [
    "X_tr, Y, X_te = pipeline.load_data(overlapping_tr=config['overlapping_tr'],\n",
    "                                   overlapping_te=config['overlapping_te'],\n",
    "                                   patch_size=config['patch_size'],\n",
    "                                   normalized=config['normalized'],\n",
    "                                   gamma=config['gamma'],\n",
    "                                   clahe=config['clahe'],\n",
    "                                   rotations=config['rotations'],\n",
    "                                   sample_tr_img=config['sample_tr_img'],\n",
    "                                   sample_te_img=config['sample_te_img'])"
   ]
  },
  {
   "cell_type": "code",
   "execution_count": null,
   "metadata": {
    "collapsed": true
   },
   "outputs": [],
   "source": [
    "X_tr.shape, Y.shape, X_te.shape"
   ]
  },
  {
   "cell_type": "code",
   "execution_count": null,
   "metadata": {
    "collapsed": true
   },
   "outputs": [],
   "source": [
    "validation_data = None\n",
    "if config['overlapping_tr']:\n",
    "    split = config['validation_split']\n",
    "    config['validation_split'] = None\n",
    "    patches_per_img = (pipeline.n_patches_tr * (1 + len(config['rotations'])))\n",
    "    assert len(X_tr) % patches_per_img == 0\n",
    "    n_images = len(X_tr) // patches_per_img\n",
    "    indices = np.arange(n_images)\n",
    "    if config['shuffle']:\n",
    "        indices = np.random.permutation(n_images)\n",
    "    n_val_images = int(split * n_images)\n",
    "    X_val = np.concatenate([X_tr[i*patches_per_img:(i+1)*patches_per_img] for i in indices[:n_val_images]])\n",
    "    X_tr = np.concatenate([X_tr[i*patches_per_img:(i+1)*patches_per_img] for i in indices[n_val_images:]])\n",
    "    Y_val = np.concatenate([Y[i*patches_per_img:(i+1)*patches_per_img] for i in indices[:n_val_images]])\n",
    "    Y = np.concatenate([Y[i*patches_per_img:(i+1)*patches_per_img] for i in indices[n_val_images:]])\n",
    "    validation_data = (X_val, Y_val)"
   ]
  },
  {
   "cell_type": "code",
   "execution_count": null,
   "metadata": {
    "collapsed": true
   },
   "outputs": [],
   "source": [
    "X_tr.shape, X_val.shape, Y.shape, Y_val.shape, X_te.shape"
   ]
  },
  {
   "cell_type": "code",
   "execution_count": null,
   "metadata": {
    "collapsed": true
   },
   "outputs": [],
   "source": [
    "i = 0\n",
    "show([X_tr[i], Y[i]])"
   ]
  },
  {
   "cell_type": "code",
   "execution_count": null,
   "metadata": {
    "collapsed": true,
    "scrolled": true
   },
   "outputs": [],
   "source": [
    "#'''\n",
    "pipeline.train_model(X_tr=X_tr,\n",
    "                     Y=Y,\n",
    "                     epochs=config['epochs'],\n",
    "                     batch_size=config['batch_size'],\n",
    "                     verbose=config['verbose'],\n",
    "                     validation_split=config['validation_split'],\n",
    "                     shuffle=config['shuffle'],\n",
    "                     load_checkpoint=config['load_checkpoint'],\n",
    "                     checkpoint_path=save_dir,\n",
    "                     save_best_only=config['save_best_only'],\n",
    "                     sub_epochs=config['sub_epochs'],\n",
    "                     validation_data=validation_data)\n",
    "'''\n",
    "pipeline.load_model(save_dir + 'weights.hdf5')\n",
    "#'''"
   ]
  },
  {
   "cell_type": "code",
   "execution_count": null,
   "metadata": {
    "collapsed": true
   },
   "outputs": [],
   "source": [
    "pipeline.initial_epoch"
   ]
  },
  {
   "cell_type": "code",
   "execution_count": null,
   "metadata": {
    "collapsed": true
   },
   "outputs": [],
   "source": [
    "pipeline.val_losses"
   ]
  },
  {
   "cell_type": "code",
   "execution_count": null,
   "metadata": {
    "collapsed": true,
    "scrolled": true
   },
   "outputs": [],
   "source": [
    "predictions = pipeline.predict(X_te=X_te,\n",
    "                               batch_size=config['batch_size'],\n",
    "                               verbose=config['verbose'])"
   ]
  },
  {
   "cell_type": "code",
   "execution_count": null,
   "metadata": {
    "collapsed": true
   },
   "outputs": [],
   "source": [
    "pipeline.save_output(predictions=predictions,\n",
    "                     path=save_dir,\n",
    "                     overlapping=config['overlapping_te'],\n",
    "                     rotations=config['rotations'],\n",
    "                     config=config.copy())"
   ]
  },
  {
   "cell_type": "code",
   "execution_count": null,
   "metadata": {
    "collapsed": true
   },
   "outputs": [],
   "source": []
  }
 ],
 "metadata": {
  "kernelspec": {
   "display_name": "Python 3",
   "language": "python",
   "name": "python3"
  },
  "language_info": {
   "codemirror_mode": {
    "name": "ipython",
    "version": 3
   },
   "file_extension": ".py",
   "mimetype": "text/x-python",
   "name": "python",
   "nbconvert_exporter": "python",
   "pygments_lexer": "ipython3",
   "version": "3.6.3"
  },
  "toc": {
   "nav_menu": {},
   "number_sections": false,
   "sideBar": true,
   "skip_h1_title": false,
   "toc_cell": true,
   "toc_position": {},
   "toc_section_display": "block",
   "toc_window_display": false
  }
 },
 "nbformat": 4,
 "nbformat_minor": 2
}
