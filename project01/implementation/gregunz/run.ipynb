{
 "cells": [
  {
   "cell_type": "code",
   "execution_count": 1,
   "metadata": {},
   "outputs": [],
   "source": [
    "import numpy as np\n",
    "\n",
    "from helpers import *\n",
    "from implementations import ridge_regression\n",
    "from functions import abs_dif, inv_log, mult \n",
    "from preprocessing import replace_invalid, standardize\n",
    "from feature_eng import build_poly, build_x\n",
    "from cross_validation import cross_validation_ridge\n",
    "from predictions import predict_labels"
   ]
  },
  {
   "cell_type": "code",
   "execution_count": 2,
   "metadata": {},
   "outputs": [],
   "source": [
    "y_train, x_brute_train, _ = load_csv_data(\"../data/train.csv\")"
   ]
  },
  {
   "cell_type": "code",
   "execution_count": 3,
   "metadata": {},
   "outputs": [],
   "source": [
    "_, x_brute_test, indices_test = load_csv_data(\"../data/test.csv\")"
   ]
  },
  {
   "cell_type": "code",
   "execution_count": 4,
   "metadata": {},
   "outputs": [
    {
     "data": {
      "text/plain": [
       "((250000,), (250000, 30), (568238, 30))"
      ]
     },
     "execution_count": 4,
     "metadata": {},
     "output_type": "execute_result"
    }
   ],
   "source": [
    "y_train.shape, x_brute_train.shape, x_brute_test.shape"
   ]
  },
  {
   "cell_type": "code",
   "execution_count": 5,
   "metadata": {},
   "outputs": [
    {
     "data": {
      "text/plain": [
       "(818238, 30)"
      ]
     },
     "execution_count": 5,
     "metadata": {},
     "output_type": "execute_result"
    }
   ],
   "source": [
    "x_brute = np.concatenate((x_brute_train, x_brute_test))\n",
    "x_brute.shape"
   ]
  },
  {
   "cell_type": "code",
   "execution_count": 6,
   "metadata": {},
   "outputs": [
    {
     "data": {
      "text/plain": [
       "(250000, 568238)"
      ]
     },
     "execution_count": 6,
     "metadata": {},
     "output_type": "execute_result"
    }
   ],
   "source": [
    "train_size = x_brute_train.shape[0]\n",
    "test_size = x_brute_test.shape[0]\n",
    "\n",
    "train_size, test_size"
   ]
  },
  {
   "cell_type": "code",
   "execution_count": 7,
   "metadata": {},
   "outputs": [],
   "source": [
    "invalid_value = -999"
   ]
  },
  {
   "cell_type": "code",
   "execution_count": 8,
   "metadata": {},
   "outputs": [],
   "source": [
    "features_name = [\"DER_mass_MMC\",\"DER_mass_transverse_met_lep\",\"DER_mass_vis\",\"DER_pt_h\",\"DER_deltaeta_jet_jet\",\"DER_mass_jet_jet\",\"DER_prodeta_jet_jet\",\"DER_deltar_tau_lep\",\"DER_pt_tot\",\"DER_sum_pt\",\"DER_pt_ratio_lep_tau\",\"DER_met_phi_centrality\",\"DER_lep_eta_centrality\",\"PRI_tau_pt\",\"PRI_tau_eta\",\"PRI_tau_phi\",\"PRI_lep_pt\",\"PRI_lep_eta\",\"PRI_lep_phi\",\"PRI_met\",\"PRI_met_phi\",\"PRI_met_sumet\",\"PRI_jet_num\",\"PRI_jet_leading_pt\",\"PRI_jet_leading_eta\",\"PRI_jet_leading_phi\",\"PRI_jet_subleading_pt\",\"PRI_jet_subleading_eta\",\"PRI_jet_subleading_phi\",\"PRI_jet_all_pt\"]"
   ]
  },
  {
   "cell_type": "code",
   "execution_count": 9,
   "metadata": {},
   "outputs": [
    {
     "data": {
      "text/plain": [
       "[15, 18, 20, 25, 28]"
      ]
     },
     "execution_count": 9,
     "metadata": {},
     "output_type": "execute_result"
    }
   ],
   "source": [
    "PHI_features = [i for i, f in enumerate(features_name) if (\"_phi\" in f) and (\"_phi_\" not in f)]\n",
    "\n",
    "PHI_features"
   ]
  },
  {
   "cell_type": "markdown",
   "metadata": {},
   "source": [
    "# Conditioning on features 22"
   ]
  },
  {
   "cell_type": "code",
   "execution_count": 10,
   "metadata": {},
   "outputs": [],
   "source": [
    "def verify_masks(masks):\n",
    "    total = 0\n",
    "    for mask in masks:\n",
    "        num = mask.sum()\n",
    "        print(num)\n",
    "        total += num\n",
    "    assert total == x_brute.shape[0]\n",
    "    return len(masks)"
   ]
  },
  {
   "cell_type": "code",
   "execution_count": 11,
   "metadata": {},
   "outputs": [
    {
     "name": "stdout",
     "output_type": "stream",
     "text": [
      "327371\n",
      "252882\n",
      "237985\n"
     ]
    },
    {
     "data": {
      "text/plain": [
       "3"
      ]
     },
     "execution_count": 11,
     "metadata": {},
     "output_type": "execute_result"
    }
   ],
   "source": [
    "data_masks = [\n",
    "    x_brute[:, 22] == 0,\n",
    "    x_brute[:, 22] == 1,\n",
    "    x_brute[:, 22] > 1\n",
    "]\n",
    "\n",
    "        \n",
    "verify_masks(data_masks)"
   ]
  },
  {
   "cell_type": "markdown",
   "metadata": {},
   "source": [
    "### Mask on Y"
   ]
  },
  {
   "cell_type": "code",
   "execution_count": 12,
   "metadata": {},
   "outputs": [
    {
     "data": {
      "text/plain": [
       "[(99913,), (77544,), (72543,)]"
      ]
     },
     "execution_count": 12,
     "metadata": {},
     "output_type": "execute_result"
    }
   ],
   "source": [
    "ys_train = [y_train[mask[:train_size]] for mask in data_masks]\n",
    "\n",
    "[y.shape for y in ys_train]"
   ]
  },
  {
   "cell_type": "markdown",
   "metadata": {},
   "source": [
    "### Mask on X"
   ]
  },
  {
   "cell_type": "code",
   "execution_count": 13,
   "metadata": {},
   "outputs": [],
   "source": [
    "mask_phi_features = range_mask(30, PHI_features)"
   ]
  },
  {
   "cell_type": "code",
   "execution_count": 14,
   "metadata": {},
   "outputs": [],
   "source": [
    "features_masks = [(x_brute[m].std(axis=0) != 0) & np.any(x_brute[m] != -999., axis=0) & ~mask_phi_features for m in data_masks]"
   ]
  },
  {
   "cell_type": "code",
   "execution_count": 15,
   "metadata": {},
   "outputs": [
    {
     "data": {
      "text/plain": [
       "[(99913, 15), (77544, 18), (72543, 25)]"
      ]
     },
     "execution_count": 15,
     "metadata": {},
     "output_type": "execute_result"
    }
   ],
   "source": [
    "xs_brute_train = [x_brute_train[d_m[:train_size]][:, f_m] for d_m, f_m in zip(data_masks, features_masks)]\n",
    "\n",
    "[x.shape for x in xs_brute_train]"
   ]
  },
  {
   "cell_type": "code",
   "execution_count": 16,
   "metadata": {},
   "outputs": [
    {
     "data": {
      "text/plain": [
       "[(227458, 15), (175338, 18), (165442, 25)]"
      ]
     },
     "execution_count": 16,
     "metadata": {},
     "output_type": "execute_result"
    }
   ],
   "source": [
    "xs_brute_test = [x_brute_test[d_m[train_size:]][:, f_m] for d_m, f_m in zip(data_masks, features_masks)]\n",
    "\n",
    "[x.shape for x in xs_brute_test]"
   ]
  },
  {
   "cell_type": "code",
   "execution_count": 17,
   "metadata": {},
   "outputs": [],
   "source": [
    "lambdas = [5e-04, 1e-05, 5e-03]\n",
    "k_fold = 5\n",
    "\n",
    "n = len(data_masks)\n",
    "degrees = [8, 11, 12]\n",
    "roots = [2, 3, 3]\n",
    "log_degrees = [5, 5, 5]\n",
    "inv_log_degrees = [6, 5, 4]\n",
    "fn_log = [True] * n\n",
    "fn_inv_log = [True] * n\n",
    "functions = [[mult, abs_dif],] * n\n",
    "\n",
    "def build_ith_x(i):\n",
    "     return build_x(xs_brute_train[i], xs_brute_test[i], degrees[i], roots[i],\n",
    "                              log_degree=log_degrees[i], inv_log_degree=inv_log_degrees[i],\n",
    "                              fn_log=fn_log[i], fn_inv_log=fn_inv_log[i], functions=functions[i], print_=True)"
   ]
  },
  {
   "cell_type": "markdown",
   "metadata": {},
   "source": [
    "# Cross Validation"
   ]
  },
  {
   "cell_type": "code",
   "execution_count": 18,
   "metadata": {
    "scrolled": false
   },
   "outputs": [
    {
     "name": "stdout",
     "output_type": "stream",
     "text": [
      "8 2 mf None 5 5 True True [<function mult at 0x7fc914ef4ae8>, <function abs_dif at 0x7fc914ef4a60>]\n",
      "Starting pre-processing\n",
      "Starting poly\n",
      "Starting combinations\n",
      "Final shape: (327371, 2266)\n",
      "x[0] DONE\n",
      "11 3 mf None 5 5 True True [<function mult at 0x7fc914ef4ae8>, <function abs_dif at 0x7fc914ef4a60>]\n",
      "Starting pre-processing\n",
      "Starting poly\n",
      "Starting combinations\n",
      "Final shape: (252882, 3277)\n",
      "x[1] DONE\n",
      "12 3 mf None 4 4 True True [<function mult at 0x7fc914ef4ae8>, <function abs_dif at 0x7fc914ef4a60>]\n",
      "Starting pre-processing\n",
      "Starting poly\n",
      "Starting combinations\n",
      "Final shape: (237985, 6101)\n",
      "x[2] DONE\n"
     ]
    },
    {
     "data": {
      "text/plain": [
       "[array([ 85.15163647,  84.62616355,  85.27674907,  85.01651486,  85.52196977]),\n",
       " array([ 81.68687129,  81.4740779 ,  81.91256126,  81.66107815,  81.86097498]),\n",
       " array([ 84.89109457,  84.87730907,  85.01516405,  84.94623656,  85.20126827])]"
      ]
     },
     "execution_count": 18,
     "metadata": {},
     "output_type": "execute_result"
    }
   ],
   "source": [
    "scores = []\n",
    "ys_sub = []\n",
    "for i in range(len(data_masks)):\n",
    "    x_train, x_test = build_ith_x(i)\n",
    "    print(\"x[{}] DONE\".format(i))\n",
    "    \n",
    "    score = cross_validation_ridge(ys_train[i], x_train, k_fold, lambdas[i], seed=33)\n",
    "    score *= 100\n",
    "    scores.append(score)\n",
    "    \n",
    "    w, _ = ridge_regression(ys_train[i], x_train, lambdas[i])\n",
    "    ys_sub.append(predict_labels(w, x_test))\n",
    "    \n",
    "    del x_train\n",
    "    del x_test\n",
    "    \n",
    "scores"
   ]
  },
  {
   "cell_type": "code",
   "execution_count": 19,
   "metadata": {},
   "outputs": [
    {
     "data": {
      "text/plain": [
       "[85.11860674607145, 81.719112716017534, 84.986214502343529]"
      ]
     },
     "execution_count": 19,
     "metadata": {},
     "output_type": "execute_result"
    }
   ],
   "source": [
    "[score.mean() for score in scores]"
   ]
  },
  {
   "cell_type": "code",
   "execution_count": 20,
   "metadata": {},
   "outputs": [],
   "source": [
    "def avg_score(scores):\n",
    "    return np.sum(np.array(scores).T.mean(axis=0) * np.array(data_masks).T.sum(axis=0)  / (train_size + test_size))"
   ]
  },
  {
   "cell_type": "code",
   "execution_count": 21,
   "metadata": {},
   "outputs": [
    {
     "data": {
      "text/plain": [
       "84.029463712587699"
      ]
     },
     "execution_count": 21,
     "metadata": {},
     "output_type": "execute_result"
    }
   ],
   "source": [
    "avg_score(scores)"
   ]
  },
  {
   "cell_type": "markdown",
   "metadata": {},
   "source": [
    "# Params Tuning"
   ]
  },
  {
   "cell_type": "code",
   "execution_count": null,
   "metadata": {},
   "outputs": [],
   "source": [
    "i=2\n",
    "lambda_ = 1e-04\n",
    "seed = np.random.randint(1000000)\n",
    "iters = 3\n",
    "\n",
    "def none_if_in(a, seq):\n",
    "    if a in seq:\n",
    "        return None\n",
    "    return a\n",
    "#tuning = range(1, 15)\n",
    "#tuning = [none_if_in(a, [1]) for a in range(1, 11)]\n",
    "#tuning = [none_if_in(a, [0]) for a in range(0, 11)]\n",
    "tuning = [False, True]\n",
    "#tuning = [None, [mult], [abs_dif], [mult, abs_dif]]\n",
    "param_tuning_scores = []\n",
    "\n",
    "for idx, v in enumerate(tuning):\n",
    "    degrees = [8, 11, 13]\n",
    "    roots = [None, 6, 2]\n",
    "    log_degrees = [1, 7, 1]\n",
    "    inv_log_degrees = [1, 1, 1]\n",
    "    fn_log = [True, True, False]\n",
    "    fn_inv_log = [True, True, False]\n",
    "    functions = [[mult, abs_dif], [mult, abs_dif], [mult, abs_dif]]\n",
    "    \n",
    "    x_train, _ = build_ith_x(i)\n",
    "    scores = np.array([])\n",
    "    for it in range(iters):\n",
    "        score = cross_validation_ridge(ys_train[i], x_train, k_fold=4, lambda_=lambda_, seed=seed+i)\n",
    "        scores = np.concatenate((scores, score))\n",
    "    param_tuning_scores.append(scores)\n",
    "    print(\"{}\".format(x_train.shape[1]))\n",
    "    print(\"{}\".format(np.mean(scores)))\n"
   ]
  },
  {
   "cell_type": "code",
   "execution_count": null,
   "metadata": {},
   "outputs": [],
   "source": [
    "box_plot(np.array(param_tuning_scores).T, \"13 2 mf None 1 1 False COMB-INV-LOG (mult,abs-dif)\".replace(\" \", \"_\"))"
   ]
  },
  {
   "cell_type": "markdown",
   "metadata": {},
   "source": [
    "# HyperParams Tuning"
   ]
  },
  {
   "cell_type": "code",
   "execution_count": null,
   "metadata": {},
   "outputs": [],
   "source": [
    "hyper_tuning_scores = []\n",
    "tuning_lambdas = np.logspace(-6, -1, num=11)\n",
    "i = 0\n",
    "seed = np.random.randint(1000000)\n",
    "for lambda_ in tqdm(tuning_lambdas, ncols=100):\n",
    "    x_train, _ = build_ith_x(i)\n",
    "    score = cross_validation_ridge(ys_train[i], x_train, k_fold=4, lambda_=lambda_, seed=seed)\n",
    "    testing_scores.append(score)"
   ]
  },
  {
   "cell_type": "code",
   "execution_count": null,
   "metadata": {},
   "outputs": [],
   "source": [
    "hyper_tuning_scores"
   ]
  },
  {
   "cell_type": "code",
   "execution_count": null,
   "metadata": {},
   "outputs": [],
   "source": []
  },
  {
   "cell_type": "markdown",
   "metadata": {},
   "source": [
    " # Viz"
   ]
  },
  {
   "cell_type": "code",
   "execution_count": null,
   "metadata": {},
   "outputs": [],
   "source": [
    "plt.boxplot(np.array(scores).T)\n",
    "plt.show()"
   ]
  },
  {
   "cell_type": "code",
   "execution_count": null,
   "metadata": {},
   "outputs": [],
   "source": [
    "\n",
    "import matplotlib.pyplot as plt\n",
    "def box_plot(data, filename=None):\n",
    "    plt.figure(figsize=(15,8))\n",
    "    if filename != None:\n",
    "        np.save(\"data/matrices/{}.npy\".format(filename), data)\n",
    "        plt.savefig(\"data/plots/{}.png\".format(filename))\n",
    "    \n",
    "    plt.boxplot(np.array(param_tuning_scores).T, 0, '', showmeans=True)\n",
    "    plt.show()\n"
   ]
  },
  {
   "cell_type": "markdown",
   "metadata": {},
   "source": [
    "# Submission"
   ]
  },
  {
   "cell_type": "code",
   "execution_count": null,
   "metadata": {},
   "outputs": [],
   "source": [
    "y_submission = np.zeros(test_size)\n",
    "for y, mask in zip(ys_sub, data_masks):\n",
    "    mask = mask[train_size:]\n",
    "    y_submission[mask] = y"
   ]
  },
  {
   "cell_type": "code",
   "execution_count": null,
   "metadata": {},
   "outputs": [],
   "source": [
    "create_csv_submission(indices_test, y_submission, \"submissions/pred29.csv\")"
   ]
  },
  {
   "cell_type": "code",
   "execution_count": null,
   "metadata": {},
   "outputs": [],
   "source": []
  }
 ],
 "metadata": {
  "kernelspec": {
   "display_name": "Python 3",
   "language": "python",
   "name": "python3"
  },
  "language_info": {
   "codemirror_mode": {
    "name": "ipython",
    "version": 3
   },
   "file_extension": ".py",
   "mimetype": "text/x-python",
   "name": "python",
   "nbconvert_exporter": "python",
   "pygments_lexer": "ipython3",
   "version": "3.6.3"
  }
 },
 "nbformat": 4,
 "nbformat_minor": 2
}
