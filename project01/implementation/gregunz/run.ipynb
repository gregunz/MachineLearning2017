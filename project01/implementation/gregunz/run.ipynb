{
 "cells": [
  {
   "cell_type": "code",
   "execution_count": 1,
   "metadata": {},
   "outputs": [],
   "source": [
    "import numpy as np\n",
    "\n",
    "from helpers import *\n",
    "from implementations import ridge_regression\n",
    "from functions import abs_dif, inv_log, mult \n",
    "from preprocessing import replace_invalid, standardize\n",
    "from feature_eng import build_poly\n",
    "from cross_validation import cross_validation_ridge\n",
    "from predictions import predict_labels"
   ]
  },
  {
   "cell_type": "code",
   "execution_count": 2,
   "metadata": {},
   "outputs": [],
   "source": [
    "y_train, x_brute_train, _ = load_csv_data(\"../data/train.csv\")"
   ]
  },
  {
   "cell_type": "code",
   "execution_count": 3,
   "metadata": {},
   "outputs": [],
   "source": [
    "_, x_brute_test, indices_test = load_csv_data(\"../data/test.csv\")"
   ]
  },
  {
   "cell_type": "code",
   "execution_count": 4,
   "metadata": {},
   "outputs": [
    {
     "data": {
      "text/plain": [
       "((250000,), (250000, 30), (568238, 30))"
      ]
     },
     "execution_count": 4,
     "metadata": {},
     "output_type": "execute_result"
    }
   ],
   "source": [
    "y_train.shape, x_brute_train.shape, x_brute_test.shape"
   ]
  },
  {
   "cell_type": "code",
   "execution_count": 5,
   "metadata": {},
   "outputs": [
    {
     "data": {
      "text/plain": [
       "(818238, 30)"
      ]
     },
     "execution_count": 5,
     "metadata": {},
     "output_type": "execute_result"
    }
   ],
   "source": [
    "x_brute = np.concatenate((x_brute_train, x_brute_test))\n",
    "x_brute.shape"
   ]
  },
  {
   "cell_type": "code",
   "execution_count": 6,
   "metadata": {},
   "outputs": [
    {
     "data": {
      "text/plain": [
       "(250000, 568238)"
      ]
     },
     "execution_count": 6,
     "metadata": {},
     "output_type": "execute_result"
    }
   ],
   "source": [
    "train_size = x_brute_train.shape[0]\n",
    "test_size = x_brute_test.shape[0]\n",
    "\n",
    "train_size, test_size"
   ]
  },
  {
   "cell_type": "code",
   "execution_count": 7,
   "metadata": {},
   "outputs": [],
   "source": [
    "invalid_value = -999"
   ]
  },
  {
   "cell_type": "code",
   "execution_count": 8,
   "metadata": {},
   "outputs": [],
   "source": [
    "features_name = [\"DER_mass_MMC\",\"DER_mass_transverse_met_lep\",\"DER_mass_vis\",\"DER_pt_h\",\"DER_deltaeta_jet_jet\",\"DER_mass_jet_jet\",\"DER_prodeta_jet_jet\",\"DER_deltar_tau_lep\",\"DER_pt_tot\",\"DER_sum_pt\",\"DER_pt_ratio_lep_tau\",\"DER_met_phi_centrality\",\"DER_lep_eta_centrality\",\"PRI_tau_pt\",\"PRI_tau_eta\",\"PRI_tau_phi\",\"PRI_lep_pt\",\"PRI_lep_eta\",\"PRI_lep_phi\",\"PRI_met\",\"PRI_met_phi\",\"PRI_met_sumet\",\"PRI_jet_num\",\"PRI_jet_leading_pt\",\"PRI_jet_leading_eta\",\"PRI_jet_leading_phi\",\"PRI_jet_subleading_pt\",\"PRI_jet_subleading_eta\",\"PRI_jet_subleading_phi\",\"PRI_jet_all_pt\"]"
   ]
  },
  {
   "cell_type": "code",
   "execution_count": 9,
   "metadata": {},
   "outputs": [
    {
     "data": {
      "text/plain": [
       "[15, 18, 20, 25, 28]"
      ]
     },
     "execution_count": 9,
     "metadata": {},
     "output_type": "execute_result"
    }
   ],
   "source": [
    "PHI_features = [i for i, f in enumerate(features_name) if (\"_phi\" in f) and (\"_phi_\" not in f)]\n",
    "\n",
    "PHI_features"
   ]
  },
  {
   "cell_type": "markdown",
   "metadata": {},
   "source": [
    "# Conditioning on features 22"
   ]
  },
  {
   "cell_type": "code",
   "execution_count": 10,
   "metadata": {},
   "outputs": [],
   "source": [
    "def verify_masks(masks):\n",
    "    total = 0\n",
    "    for mask in masks:\n",
    "        num = mask.sum()\n",
    "        print(num)\n",
    "        total += num\n",
    "    assert total == x_brute.shape[0]\n",
    "    return len(masks)"
   ]
  },
  {
   "cell_type": "code",
   "execution_count": 11,
   "metadata": {},
   "outputs": [
    {
     "name": "stdout",
     "output_type": "stream",
     "text": [
      "327371\n",
      "252882\n",
      "237985\n"
     ]
    },
    {
     "data": {
      "text/plain": [
       "3"
      ]
     },
     "execution_count": 11,
     "metadata": {},
     "output_type": "execute_result"
    }
   ],
   "source": [
    "data_masks = [\n",
    "    x_brute[:, 22] == 0,\n",
    "    x_brute[:, 22] == 1,\n",
    "    x_brute[:, 22] > 1\n",
    "]\n",
    "        \n",
    "verify_masks(data_masks)"
   ]
  },
  {
   "cell_type": "markdown",
   "metadata": {},
   "source": [
    "### Mask on Y"
   ]
  },
  {
   "cell_type": "code",
   "execution_count": 12,
   "metadata": {},
   "outputs": [
    {
     "data": {
      "text/plain": [
       "[(99913,), (77544,), (72543,)]"
      ]
     },
     "execution_count": 12,
     "metadata": {},
     "output_type": "execute_result"
    }
   ],
   "source": [
    "ys_train = [y_train[mask[:train_size]] for mask in data_masks]\n",
    "\n",
    "[y.shape for y in ys_train]"
   ]
  },
  {
   "cell_type": "markdown",
   "metadata": {},
   "source": [
    "### Mask on X"
   ]
  },
  {
   "cell_type": "code",
   "execution_count": 13,
   "metadata": {},
   "outputs": [],
   "source": [
    "mask_phi_features = range_mask(30, PHI_features)"
   ]
  },
  {
   "cell_type": "code",
   "execution_count": 14,
   "metadata": {},
   "outputs": [],
   "source": [
    "features_masks = [(x_brute[m].std(axis=0) != 0) & np.any(x_brute[m] != -999., axis=0) & ~mask_phi_features for m in data_masks]"
   ]
  },
  {
   "cell_type": "code",
   "execution_count": 15,
   "metadata": {},
   "outputs": [
    {
     "data": {
      "text/plain": [
       "[(99913, 15), (77544, 18), (72543, 25)]"
      ]
     },
     "execution_count": 15,
     "metadata": {},
     "output_type": "execute_result"
    }
   ],
   "source": [
    "xs_brute_train = [x_brute_train[d_m[:train_size]][:, f_m] for d_m, f_m in zip(data_masks, features_masks)]\n",
    "\n",
    "[x.shape for x in xs_brute_train]"
   ]
  },
  {
   "cell_type": "code",
   "execution_count": 16,
   "metadata": {},
   "outputs": [
    {
     "data": {
      "text/plain": [
       "[(227458, 15), (175338, 18), (165442, 25)]"
      ]
     },
     "execution_count": 16,
     "metadata": {},
     "output_type": "execute_result"
    }
   ],
   "source": [
    "xs_brute_test = [x_brute_test[d_m[train_size:]][:, f_m] for d_m, f_m in zip(data_masks, features_masks)]\n",
    "\n",
    "[x.shape for x in xs_brute_test]"
   ]
  },
  {
   "cell_type": "code",
   "execution_count": 133,
   "metadata": {},
   "outputs": [],
   "source": [
    "def build_x(x_train, x_test, degree, root=None, replace_by=\"mf\", f_mask=None,\n",
    "            log_degree=None, inv_log_degree=None, fn_log=True, fn_inv_log=True,\n",
    "            functions=None, print_=False):\n",
    "    \n",
    "    print(degree, root, replace_by, f_mask, log_degree, inv_log_degree, fn_log, fn_inv_log, functions)\n",
    "    \n",
    "    assert f_mask == None or len(f_mask) == x.shape[1]\n",
    "    assert log_degree == None or type(log_degree) == int\n",
    "    assert inv_log_degree == None or type(inv_log_degree) == int\n",
    "    \n",
    "    train_size = x_train.shape[0]\n",
    "    test_size = x_test.shape[0]\n",
    "    \n",
    "    x = np.concatenate((x_train, x_test))\n",
    "    \n",
    "    if f_mask != None:\n",
    "        x = x[:, f_mask]\n",
    "    \n",
    "    # Preprocessing\n",
    "    if print_:\n",
    "        print(\"Starting pre-processing\")\n",
    "    x = replace_invalid(x, x != invalid_value, replace_by=\"mf\")\n",
    "\n",
    "    x_non_negative = x - x.min(axis=0)\n",
    "    x_std = standardize(x)\n",
    "    \n",
    "    # Features Engineering\n",
    "    # poly\n",
    "    if print_:\n",
    "        print(\"Starting poly\")\n",
    "    x = build_poly(x_std, degree)\n",
    "    \n",
    "    if log_degree != None:\n",
    "        x_log = standardize(np.log(1 + x_non_negative))\n",
    "        x = np.concatenate((x, build_poly(x_log, log_degree)), axis=1)\n",
    "    if inv_log_degree != None:\n",
    "        x_inv_log = standardize(inv_log(x_non_negative))\n",
    "        x = np.concatenate((x, build_poly(x_inv_log, inv_log_degree)), axis=1)\n",
    "    if root != None:\n",
    "        x = np.concatenate((x, build_poly(x_non_negative, root, roots=True)), axis=1)\n",
    "    \n",
    "    # combinations with functions\n",
    "    if print_:\n",
    "        print(\"Starting combinations\")\n",
    "    if functions != None:\n",
    "        x_comb = x_std\n",
    "        if fn_log:\n",
    "            x_log = np.log(1 + x_non_negative)\n",
    "            x_comb = np.concatenate((x_comb, x_log), axis=1)\n",
    "        if fn_inv_log:\n",
    "            x_inv_log = standardize(inv_log(x_non_negative))\n",
    "            x_comb = np.concatenate((x_comb, x_inv_log), axis=1)\n",
    "        for fn in functions:\n",
    "            x = np.concatenate((x, combinations_of(x_comb, fn, create_pairs(x_comb.shape[1], x_comb.shape[1]))), axis=1)\n",
    "\n",
    "    x = np.concatenate((np.ones(x.shape[0]).reshape((x.shape[0], 1)), x), axis=1)\n",
    "    \n",
    "    if print_:\n",
    "        print(\"Final shape: {}\".format(x.shape))\n",
    "    \n",
    "    return x[:train_size], x[train_size:]"
   ]
  },
  {
   "cell_type": "code",
   "execution_count": 221,
   "metadata": {},
   "outputs": [],
   "source": [
    "lambdas = [1e-05, 1e-05, 1e-05]\n",
    "k_fold = 4\n",
    "\n",
    "'''\n",
    "degrees = [6, 11, 11]\n",
    "roots = [3, 3, 3]\n",
    "log_degrees = [5, 5, 5]\n",
    "inv_log_degrees = [5, 5, 5]\n",
    "fn_log = [True, True, True]\n",
    "fn_inv_log = [True, True, True]\n",
    "functions = [mult, abs_dif] * 3\n",
    "'''\n",
    "\n",
    "degrees = [7, 11, 12]\n",
    "roots = [None]*3#[None, 6, 2]\n",
    "log_degrees = [2]*3#[1, 7, 1]\n",
    "inv_log_degrees = [2]*3\n",
    "fn_log = [True, True, True]\n",
    "fn_inv_log = [True, True, True]\n",
    "functions = [[mult, abs_dif], [mult, abs_dif], [mult, abs_dif]]\n",
    "\n",
    "def build_ith_x(i):\n",
    "     return build_x(xs_brute_train[i], xs_brute_test[i], degrees[i], roots[i],\n",
    "                              log_degree=log_degrees[i], inv_log_degree=inv_log_degrees[i],\n",
    "                              fn_log=fn_log[i], fn_inv_log=fn_inv_log[i], functions=functions[i])"
   ]
  },
  {
   "cell_type": "markdown",
   "metadata": {},
   "source": [
    "# Cross Validation"
   ]
  },
  {
   "cell_type": "code",
   "execution_count": 222,
   "metadata": {
    "scrolled": false
   },
   "outputs": [
    {
     "name": "stdout",
     "output_type": "stream",
     "text": [
      "7 None mf None 2 2 True True [<function mult at 0x7f0314038ae8>, <function abs_dif at 0x7f0314038a60>]\n",
      "x[0] DONE\n",
      "11 None mf None 2 2 True True [<function mult at 0x7f0314038ae8>, <function abs_dif at 0x7f0314038a60>]\n",
      "x[1] DONE\n",
      "12 None mf None 2 2 True True [<function mult at 0x7f0314038ae8>, <function abs_dif at 0x7f0314038a60>]\n",
      "x[2] DONE\n"
     ]
    },
    {
     "data": {
      "text/plain": [
       "[array([ 0.85210986,  0.85118905,  0.848867  ,  0.85515253]),\n",
       " array([ 0.81811617,  0.81811617,  0.81698133,  0.81749716]),\n",
       " array([ 0.84935208,  0.84510615,  0.85133719,  0.84582299])]"
      ]
     },
     "execution_count": 222,
     "metadata": {},
     "output_type": "execute_result"
    }
   ],
   "source": [
    "scores = []\n",
    "ys_sub = []\n",
    "for i in range(len(data_masks)):\n",
    "    x_train, x_test = build_ith_x(i)\n",
    "    print(\"x[{}] DONE\".format(i))\n",
    "    \n",
    "    score = cross_validation_ridge(ys_train[i], x_train, k_fold, lambdas[i])\n",
    "    scores.append(score)\n",
    "    \n",
    "    w, _ = ridge_regression(ys_train[i], x_train, lambdas[i])\n",
    "    ys_sub.append(predict_labels(w, x_test))\n",
    "    \n",
    "    del x_train\n",
    "    del x_test\n",
    "    \n",
    "scores"
   ]
  },
  {
   "cell_type": "code",
   "execution_count": 223,
   "metadata": {},
   "outputs": [
    {
     "data": {
      "text/plain": [
       "[0.8518296100568501, 0.81767770556071395, 0.84790460435621728]"
      ]
     },
     "execution_count": 223,
     "metadata": {},
     "output_type": "execute_result"
    }
   ],
   "source": [
    "[score.mean() for score in scores]"
   ]
  },
  {
   "cell_type": "code",
   "execution_count": 224,
   "metadata": {},
   "outputs": [],
   "source": [
    "def avg_score(scores):\n",
    "    return np.sum(np.array(scores).T.mean(axis=0) * np.array(data_masks).T.sum(axis=0)  / (train_size + test_size))"
   ]
  },
  {
   "cell_type": "code",
   "execution_count": 225,
   "metadata": {},
   "outputs": [
    {
     "data": {
      "text/plain": [
       "84.01331422877449"
      ]
     },
     "execution_count": 225,
     "metadata": {},
     "output_type": "execute_result"
    }
   ],
   "source": [
    "avg_score(scores) * 100"
   ]
  },
  {
   "cell_type": "markdown",
   "metadata": {},
   "source": [
    "# Params Tuning"
   ]
  },
  {
   "cell_type": "code",
   "execution_count": 70,
   "metadata": {},
   "outputs": [],
   "source": [
    "from tqdm import tqdm"
   ]
  },
  {
   "cell_type": "code",
   "execution_count": 187,
   "metadata": {},
   "outputs": [
    {
     "name": "stdout",
     "output_type": "stream",
     "text": [
      "13 2 mf None 1 1 False False [<function mult at 0x7f0314038ae8>, <function abs_dif at 0x7f0314038a60>]\n",
      "1026\n",
      "0.8419079128756547\n",
      "13 2 mf None 1 1 False False [<function mult at 0x7f0314038ae8>, <function abs_dif at 0x7f0314038a60>]\n",
      "1026\n",
      "0.8419079128756547\n"
     ]
    }
   ],
   "source": [
    "i=2\n",
    "lambda_ = 1e-04\n",
    "seed = np.random.randint(1000000)\n",
    "iters = 3\n",
    "\n",
    "def none_if_in(a, seq):\n",
    "    if a in seq:\n",
    "        return None\n",
    "    return a\n",
    "#tuning = range(1, 15)\n",
    "#tuning = [none_if_in(a, [1]) for a in range(1, 11)]\n",
    "#tuning = [none_if_in(a, [0]) for a in range(0, 11)]\n",
    "tuning = [False, True]\n",
    "#tuning = [None, [mult], [abs_dif], [mult, abs_dif]]\n",
    "param_tuning_scores = []\n",
    "\n",
    "for idx, v in enumerate(tuning):\n",
    "    degrees = [8, 11, 13]\n",
    "    roots = [None, 6, 2]\n",
    "    log_degrees = [1, 7, 1]\n",
    "    inv_log_degrees = [1, 1, 1]\n",
    "    fn_log = [True, True, False]\n",
    "    fn_inv_log = [True, True, False]\n",
    "    functions = [[mult, abs_dif], [mult, abs_dif], [mult, abs_dif]]\n",
    "    \n",
    "    x_train, _ = build_ith_x(i)\n",
    "    scores = np.array([])\n",
    "    for it in range(iters):\n",
    "        score = cross_validation_ridge(ys_train[i], x_train, k_fold=4, lambda_=lambda_, seed=seed+i)\n",
    "        scores = np.concatenate((scores, score))\n",
    "    param_tuning_scores.append(scores)\n",
    "    print(\"{}\".format(x_train.shape[1]))\n",
    "    print(\"{}\".format(np.mean(scores)))\n"
   ]
  },
  {
   "cell_type": "code",
   "execution_count": 188,
   "metadata": {},
   "outputs": [
    {
     "data": {
      "image/png": "[encoded data removed]",
      "text/plain": [
       "<matplotlib.figure.Figure at 0x7f02d67a4828>"
      ]
     },
     "metadata": {},
     "output_type": "display_data"
    }
   ],
   "source": [
    "box_plot(np.array(param_tuning_scores).T, \"13 2 mf None 1 1 False COMB-INV-LOG (mult,abs-dif)\".replace(\" \", \"_\"))"
   ]
  },
  {
   "cell_type": "markdown",
   "metadata": {},
   "source": [
    "# HyperParams Tuning"
   ]
  },
  {
   "cell_type": "code",
   "execution_count": 65,
   "metadata": {},
   "outputs": [
    {
     "name": "stdout",
     "output_type": "stream",
     "text": [
      "1e-06\n",
      "0.851309152054\n",
      "3.16227766017e-06\n",
      "0.851209063976\n",
      "1e-05\n",
      "0.851128993514\n",
      "3.16227766017e-05\n",
      "0.851249099207\n",
      "0.0001\n",
      "0.85114901113\n",
      "0.000316227766017\n",
      "0.851209063976\n",
      "0.001\n",
      "0.850718632397\n",
      "0.00316227766017\n",
      "0.850058051085\n",
      "0.01\n",
      "0.849567619505\n",
      "0.0316227766017\n",
      "0.848506685884\n",
      "0.1\n",
      "0.846534950757\n"
     ]
    }
   ],
   "source": [
    "hyper_tuning_scores = []\n",
    "tuning_lambdas = np.logspace(-6, -1, num=11)\n",
    "i = 0\n",
    "seed = np.random.randint(1000000)\n",
    "for lambda_ in tqdm(tuning_lambdas, ncols=100):\n",
    "    x_train, _ = build_ith_x(i)\n",
    "    score = cross_validation_ridge(ys_train[i], x_train, k_fold=4, lambda_=lambda_, seed=seed)\n",
    "    testing_scores.append(score)"
   ]
  },
  {
   "cell_type": "code",
   "execution_count": 66,
   "metadata": {},
   "outputs": [
    {
     "data": {
      "text/plain": [
       "[array([ 0.84934743,  0.85543278,  0.84986788,  0.85058852]),\n",
       " array([ 0.84934743,  0.85527264,  0.84970774,  0.85050845]),\n",
       " array([ 0.84930739,  0.85543278,  0.84934743,  0.85042838]),\n",
       " array([ 0.84934743,  0.85527264,  0.84982785,  0.85054848]),\n",
       " array([ 0.84950757,  0.85507246,  0.84938746,  0.85062855]),\n",
       " array([ 0.84982785,  0.85487229,  0.84926736,  0.85086876]),\n",
       " array([ 0.84882697,  0.85367123,  0.8494275 ,  0.85094883]),\n",
       " array([ 0.84834654,  0.85283049,  0.84894707,  0.8501081 ]),\n",
       " array([ 0.84834654,  0.85279046,  0.84814637,  0.84898711]),\n",
       " array([ 0.84710545,  0.85202979,  0.84710545,  0.84778605]),\n",
       " array([ 0.84510369,  0.84946753,  0.8452238 ,  0.84634478])]"
      ]
     },
     "execution_count": 66,
     "metadata": {},
     "output_type": "execute_result"
    }
   ],
   "source": [
    "hyper_tuning_scores"
   ]
  },
  {
   "cell_type": "code",
   "execution_count": null,
   "metadata": {},
   "outputs": [],
   "source": []
  },
  {
   "cell_type": "markdown",
   "metadata": {},
   "source": [
    " # Viz"
   ]
  },
  {
   "cell_type": "code",
   "execution_count": 46,
   "metadata": {},
   "outputs": [
    {
     "data": {
      "image/png": "[encoded data removed]",
      "text/plain": [
       "<matplotlib.figure.Figure at 0x7f02e38d52e8>"
      ]
     },
     "metadata": {},
     "output_type": "display_data"
    }
   ],
   "source": [
    "plt.boxplot(np.array(scores).T)\n",
    "plt.show()"
   ]
  },
  {
   "cell_type": "code",
   "execution_count": 120,
   "metadata": {},
   "outputs": [],
   "source": [
    "\n",
    "import matplotlib.pyplot as plt\n",
    "def box_plot(data, filename=None):\n",
    "    plt.figure(figsize=(15,8))\n",
    "    if filename != None:\n",
    "        np.save(\"data/matrices/{}.npy\".format(filename), data)\n",
    "        plt.savefig(\"data/plots/{}.png\".format(filename))\n",
    "    \n",
    "    plt.boxplot(np.array(param_tuning_scores).T, 0, '', showmeans=True)\n",
    "    plt.show()\n"
   ]
  },
  {
   "cell_type": "markdown",
   "metadata": {},
   "source": [
    "# Submission"
   ]
  },
  {
   "cell_type": "code",
   "execution_count": 22,
   "metadata": {},
   "outputs": [],
   "source": [
    "y_submission = np.zeros(test_size)\n",
    "for y, mask in zip(ys_sub, data_masks):\n",
    "    mask = mask[train_size:]\n",
    "    y_submission[mask] = y"
   ]
  },
  {
   "cell_type": "code",
   "execution_count": 23,
   "metadata": {},
   "outputs": [],
   "source": [
    "create_csv_submission(indices_test, y_submission, \"submissions/pred28.csv\")"
   ]
  },
  {
   "cell_type": "code",
   "execution_count": null,
   "metadata": {},
   "outputs": [],
   "source": []
  }
 ],
 "metadata": {
  "kernelspec": {
   "display_name": "Python 3",
   "language": "python",
   "name": "python3"
  },
  "language_info": {
   "codemirror_mode": {
    "name": "ipython",
    "version": 3
   },
   "file_extension": ".py",
   "mimetype": "text/x-python",
   "name": "python",
   "nbconvert_exporter": "python",
   "pygments_lexer": "ipython3",
   "version": "3.6.3"
  }
 },
 "nbformat": 4,
 "nbformat_minor": 2
}
