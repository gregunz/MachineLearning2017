{
 "cells": [
  {
   "cell_type": "code",
   "execution_count": null,
   "metadata": {
    "collapsed": true
   },
   "outputs": [],
   "source": [
    "import numpy as np\n",
    "import itertools as it\n",
    "\n",
    "from helpers import *\n",
    "\n",
    "from tqdm import tqdm\n",
    "from implementations import *\n",
    "from cross_validation import build_k_fold_sets\n",
    "from feature_eng import *\n",
    "from data_cleaning import replace_invalid\n",
    "from plots import display_features\n",
    "\n",
    "import matplotlib.pyplot as plt\n",
    "%matplotlib inline"
   ]
  },
  {
   "cell_type": "code",
   "execution_count": null,
   "metadata": {},
   "outputs": [],
   "source": [
    "y_train, x_brute_train, _ = load_csv_data(\"../data/train.csv\")"
   ]
  },
  {
   "cell_type": "code",
   "execution_count": null,
   "metadata": {},
   "outputs": [],
   "source": [
    "y_test, x_brute_test, _ = load_csv_data(\"../data/test.csv\")"
   ]
  },
  {
   "cell_type": "code",
   "execution_count": null,
   "metadata": {},
   "outputs": [],
   "source": [
    "x_brute = np.concatenate((x_brute_train, x_brute_test))\n",
    "x_brute.shape"
   ]
  },
  {
   "cell_type": "code",
   "execution_count": 5,
   "metadata": {},
   "outputs": [
    {
     "data": {
      "text/plain": [
       "(818238, 30)"
      ]
     },
     "execution_count": 5,
     "metadata": {},
     "output_type": "execute_result"
    }
   ],
   "source": [
    "mask_invalid = x_brute == -999.0\n",
    "x_replaced_invalid = replace_invalid(x_brute, mask_invalid, replace_by=\"mean\")\n",
    "x_replaced_invalid.shape"
   ]
  },
  {
   "cell_type": "code",
   "execution_count": 6,
   "metadata": {
    "collapsed": true
   },
   "outputs": [],
   "source": [
    "def verify_masks(masks):\n",
    "    total = 0\n",
    "    for mask in masks:\n",
    "        total += mask.sum()\n",
    "    assert total == x_brute.shape[0]\n",
    "    return len(masks)"
   ]
  },
  {
   "cell_type": "code",
   "execution_count": 7,
   "metadata": {},
   "outputs": [
    {
     "data": {
      "text/plain": [
       "(30,)"
      ]
     },
     "execution_count": 7,
     "metadata": {},
     "output_type": "execute_result"
    }
   ],
   "source": [
    "x_min_values = np.ma.array(x_brute, mask=mask_invalid).min(axis=0)\n",
    "x_min_values.shape"
   ]
  },
  {
   "cell_type": "code",
   "execution_count": 8,
   "metadata": {},
   "outputs": [
    {
     "data": {
      "text/plain": [
       "2"
      ]
     },
     "execution_count": 8,
     "metadata": {},
     "output_type": "execute_result"
    }
   ],
   "source": [
    "limit = 2.7\n",
    "masks_feat_8 = [\n",
    "    np.log(x_replaced_invalid - x_min_values + 1)[:, 8] <= limit,\n",
    "    np.log(x_replaced_invalid - x_min_values + 1)[:, 8] > limit\n",
    "]\n",
    "\n",
    "verify_masks(masks_feat_8)"
   ]
  },
  {
   "cell_type": "code",
   "execution_count": 9,
   "metadata": {},
   "outputs": [
    {
     "data": {
      "text/plain": [
       "3"
      ]
     },
     "execution_count": 9,
     "metadata": {},
     "output_type": "execute_result"
    }
   ],
   "source": [
    "masks_feat_22 = [\n",
    "    x_replaced_invalid[:, 22] == 0,\n",
    "    x_replaced_invalid[:, 22] == 1,\n",
    "    x_replaced_invalid[:, 22] > 1\n",
    "]\n",
    "\n",
    "verify_masks(masks_feat_22)"
   ]
  },
  {
   "cell_type": "code",
   "execution_count": 10,
   "metadata": {},
   "outputs": [
    {
     "name": "stdout",
     "output_type": "stream",
     "text": [
      "192086\n",
      "133623\n",
      "92524\n",
      "135285\n",
      "119259\n",
      "145461\n"
     ]
    },
    {
     "data": {
      "text/plain": [
       "6"
      ]
     },
     "execution_count": 10,
     "metadata": {},
     "output_type": "execute_result"
    }
   ],
   "source": [
    "data_masks = []\n",
    "for mask_i in masks_feat_8:\n",
    "    for mask_j in masks_feat_22:\n",
    "        data_masks.append(mask_i & mask_j)\n",
    "        print((mask_i & mask_j).sum())\n",
    "        \n",
    "verify_masks(data_masks)"
   ]
  },
  {
   "cell_type": "code",
   "execution_count": 11,
   "metadata": {
    "collapsed": true
   },
   "outputs": [],
   "source": [
    "invalid_features_mask = [mask_invalid[mask].sum(axis=0) != mask.sum() for mask in data_masks]"
   ]
  },
  {
   "cell_type": "code",
   "execution_count": 12,
   "metadata": {},
   "outputs": [
    {
     "data": {
      "text/plain": [
       "[(192086, 18),\n",
       " (133623, 22),\n",
       " (92524, 30),\n",
       " (135285, 18),\n",
       " (119259, 22),\n",
       " (145461, 30)]"
      ]
     },
     "execution_count": 12,
     "metadata": {},
     "output_type": "execute_result"
    }
   ],
   "source": [
    "xs_replaced_invalid = []\n",
    "xs_features_mask = []\n",
    "\n",
    "for idx, mask in enumerate(data_masks):\n",
    "    # remove features containing only invalid features\n",
    "    mask_1 = invalid_features_mask[idx]\n",
    "    # & remove features with std being 0 (because of conditioning over feature 22 f.ex.)\n",
    "    mask_2 =  x_replaced_invalid[mask].std(axis=0) != 0\n",
    "    \n",
    "    features_mask = mask_1 & mask_2\n",
    "    \n",
    "    xs_features_mask.append(features_mask)\n",
    "    xs_replaced_invalid.append(x_replaced_invalid[mask][:, features_mask])\n",
    "    \n",
    "[x.shape for x in xs_replaced_invalid]"
   ]
  },
  {
   "cell_type": "code",
   "execution_count": 14,
   "metadata": {},
   "outputs": [
    {
     "data": {
      "text/plain": [
       "[(192086, 18),\n",
       " (133623, 22),\n",
       " (92524, 30),\n",
       " (135285, 18),\n",
       " (119259, 22),\n",
       " (145461, 30)]"
      ]
     },
     "execution_count": 14,
     "metadata": {},
     "output_type": "execute_result"
    }
   ],
   "source": [
    "xs_brute = [x_brute[data_mask][:, f_mask] for data_mask, f_mask in zip(data_masks, xs_features_mask)]\n",
    "\n",
    "[x.shape for x in xs_brute]"
   ]
  },
  {
   "cell_type": "code",
   "execution_count": 61,
   "metadata": {},
   "outputs": [
    {
     "data": {
      "text/plain": [
       "[(192086, 10),\n",
       " (133623, 12),\n",
       " (92524, 16),\n",
       " (135285, 12),\n",
       " (119259, 12),\n",
       " (145461, 16)]"
      ]
     },
     "execution_count": 61,
     "metadata": {},
     "output_type": "execute_result"
    }
   ],
   "source": [
    "xs_log = []\n",
    "\n",
    "for x in xs_replaced_invalid:\n",
    "    mask_negative_values = ~np.any(x <= 0, axis=0)\n",
    "    non_negative_features = x[:, mask_negative_values]\n",
    "\n",
    "    xs_log.append(np.log(non_negative_features))\n",
    "    \n",
    "[f.shape for f in xs_log]"
   ]
  },
  {
   "cell_type": "code",
   "execution_count": 64,
   "metadata": {},
   "outputs": [
    {
     "data": {
      "text/plain": [
       "[(192086, 28),\n",
       " (133623, 34),\n",
       " (92524, 46),\n",
       " (135285, 30),\n",
       " (119259, 34),\n",
       " (145461, 46)]"
      ]
     },
     "execution_count": 64,
     "metadata": {},
     "output_type": "execute_result"
    }
   ],
   "source": [
    "xs_mix = [np.concatenate((x1, x2), axis=1) for x1, x2 in zip(xs_replaced_invalid, xs_log)]\n",
    "\n",
    "[f.shape for f in xs_mix]"
   ]
  },
  {
   "cell_type": "code",
   "execution_count": 66,
   "metadata": {},
   "outputs": [
    {
     "data": {
      "text/plain": [
       "[(192086, 28),\n",
       " (133623, 34),\n",
       " (92524, 46),\n",
       " (135285, 30),\n",
       " (119259, 34),\n",
       " (145461, 46)]"
      ]
     },
     "execution_count": 66,
     "metadata": {},
     "output_type": "execute_result"
    }
   ],
   "source": [
    "xs_standardized = [standardize(x) for x in xs_mix]\n",
    "\n",
    "[x.shape for x in xs_standardized]"
   ]
  },
  {
   "cell_type": "code",
   "execution_count": 67,
   "metadata": {},
   "outputs": [
    {
     "name": "stderr",
     "output_type": "stream",
     "text": [
      "6it [00:26,  4.49s/it]\n"
     ]
    },
    {
     "data": {
      "text/plain": [
       "[(192086, 336),\n",
       " (133623, 408),\n",
       " (92524, 552),\n",
       " (135285, 360),\n",
       " (119259, 408),\n",
       " (145461, 552)]"
      ]
     },
     "execution_count": 67,
     "metadata": {},
     "output_type": "execute_result"
    }
   ],
   "source": [
    "degrees =  [11] * len(data_masks)\n",
    "poly_features = [build_poly(x, degree) for x, degree in tqdm(zip(xs_standardized, degrees), ncols=100)]\n",
    "\n",
    "[f.shape for f in poly_features]"
   ]
  },
  {
   "cell_type": "code",
   "execution_count": 68,
   "metadata": {},
   "outputs": [
    {
     "name": "stderr",
     "output_type": "stream",
     "text": [
      "100%|█████████████████████████████████████████████████████████████████| 6/6 [01:13<00:00, 12.31s/it]\n"
     ]
    },
    {
     "data": {
      "text/plain": [
       "[(192086, 756),\n",
       " (133623, 1122),\n",
       " (92524, 2070),\n",
       " (135285, 870),\n",
       " (119259, 1122),\n",
       " (145461, 2070)]"
      ]
     },
     "execution_count": 68,
     "metadata": {},
     "output_type": "execute_result"
    }
   ],
   "source": [
    "combinations_over = xs_standardized\n",
    "\n",
    "combinations_features = []\n",
    "for x in tqdm(combinations_over, ncols=100):\n",
    "    combinations = []\n",
    "    for i in range(x.shape[1]):\n",
    "        for j in range(x.shape[1]):\n",
    "            if i != j:\n",
    "                comb = (x[:, i] * x[:, j]).reshape((x.shape[0], 1))\n",
    "                combinations.append(comb)\n",
    "    combinations_features.append(np.concatenate(combinations, axis=1))\n",
    "\n",
    "\n",
    "[f.shape for f in combinations_features]"
   ]
  },
  {
   "cell_type": "code",
   "execution_count": 73,
   "metadata": {},
   "outputs": [
    {
     "data": {
      "text/plain": [
       "[58823, 40904, 28236, 41090, 36640, 44307]"
      ]
     },
     "execution_count": 73,
     "metadata": {},
     "output_type": "execute_result"
    }
   ],
   "source": [
    "train_size, test_size = x_brute_train.shape[0], x_brute_test.shape[0]\n",
    "train_mask = np.r_[[True] * train_size, [False] * test_size]\n",
    "xs_train_size = [(mask & train_mask).sum() for mask in data_masks]\n",
    "\n",
    "[size for size in xs_train_size]"
   ]
  },
  {
   "cell_type": "code",
   "execution_count": null,
   "metadata": {
    "collapsed": true
   },
   "outputs": [],
   "source": []
  },
  {
   "cell_type": "markdown",
   "metadata": {},
   "source": [
    "# Parameters tuning"
   ]
  },
  {
   "cell_type": "code",
   "execution_count": 108,
   "metadata": {
    "collapsed": true
   },
   "outputs": [],
   "source": [
    "def to_csv(scores, params, filename):    \n",
    "    with open(filename, \"a\", encoding=\"utf8\") as output_file:\n",
    "        writer = csv.writer(csvfile, delimiter=',')\n",
    "        writer.writerows(zip(scores, params))"
   ]
  },
  {
   "cell_type": "code",
   "execution_count": 122,
   "metadata": {
    "collapsed": true
   },
   "outputs": [],
   "source": [
    "remember_n = 5\n",
    "best_scores = [0] * remember_n\n",
    "best_params = [None] * remember_n\n",
    "\n",
    "def reset_n_best(filename):\n",
    "    to_csv(best_scores, best_params, filename)\n",
    "    best_scores = [0] * remember_n\n",
    "    best_params = [None] * remember_n\n",
    "    \n",
    "def remember_n_best(score, params):    \n",
    "    min_score = np.array(best_scores).min()\n",
    "    if min_score < score:\n",
    "        idx = best_scores.index(min_score)\n",
    "        best_scores[idx] = score\n",
    "        best_params[idx] = params\n",
    "        #print(\"new high score = {s} with params = {p}\".format(s=score, p=params))\n",
    "        return True\n",
    "    return False"
   ]
  },
  {
   "cell_type": "code",
   "execution_count": 113,
   "metadata": {
    "collapsed": true
   },
   "outputs": [],
   "source": [
    "def cross_validation_ridge(y_train, x_train, k_fold, lambda_, seed=np.random.seed()):\n",
    "    test_losses = []\n",
    "    for x_tr, x_va, y_tr, y_va in build_k_fold_sets(y_train, x_train, k_fold, seed):\n",
    "        w = ridge_regression(y_tr, x_tr, lambda_)\n",
    "\n",
    "        y_tr_pred = predict_labels(w, x_tr)\n",
    "        train_loss = (y_tr_pred == y_tr).mean()\n",
    "\n",
    "        y_te_pred = predict_labels(w, x_va)\n",
    "        test_loss = (y_te_pred == y_va).mean()\n",
    "\n",
    "        test_losses.append(test_loss)\n",
    "\n",
    "    losses = np.array(test_losses)\n",
    "    return losses.mean() * 100, losses.std() * 100"
   ]
  },
  {
   "cell_type": "code",
   "execution_count": 114,
   "metadata": {},
   "outputs": [],
   "source": [
    "k_fold = 5\n",
    "iters = 4\n",
    "\n",
    "lambdas = [0.2, 0.1, 0.05, 0.01, 0.005, 0.001, 0.0005, 0.0001]\n",
    "def create_masks(length, size):\n",
    "    return list(it.combinations(range(length), size))\n",
    "def poly_mask_from_to(idx):\n",
    "    return (xs_standardized[idx].shape[1] * 2, poly_features[idx].shape[1])\n",
    "def combinations_features_from_to(idx):\n",
    "    return (0, combinations_features[idx].shape[1])"
   ]
  },
  {
   "cell_type": "code",
   "execution_count": 115,
   "metadata": {
    "collapsed": true
   },
   "outputs": [],
   "source": [
    "ys_train = [y_train[mask[:train_size]] for mask in data_masks]"
   ]
  },
  {
   "cell_type": "code",
   "execution_count": 118,
   "metadata": {
    "collapsed": true
   },
   "outputs": [],
   "source": [
    "def find_best_standardized(lambdas, xs_standardized):\n",
    "    mask_size = 1\n",
    "    for i_x, (y, x) in tqdm(enumerate(zip(ys_train, xs_standardized)), ncols=100):\n",
    "        \n",
    "        for lambda_ in lambdas:\n",
    "            for m in create_masks(x.shape[1], mask_size):\n",
    "                scores = []\n",
    "                stds = []\n",
    "                for _ in range(iters):\n",
    "                    score, std = cross_validation_ridge(y, x, k_fold, lambda_)\n",
    "                    scores.append(score)\n",
    "                    stds.append(std)\n",
    "                score = np.array(scores).mean()\n",
    "                std = np.array(std).mean()\n",
    "                remember_n_best(score, [lambda_, m])\n",
    "        reset_n_best(\"best_std_{i}_{s}.csv\".format(i=i_x+1, s=mask_size))\n",
    "                "
   ]
  },
  {
   "cell_type": "code",
   "execution_count": 123,
   "metadata": {},
   "outputs": [
    {
     "name": "stderr",
     "output_type": "stream",
     "text": [
      "\r",
      "0it [00:00, ?it/s]"
     ]
    },
    {
     "ename": "KeyboardInterrupt",
     "evalue": "",
     "output_type": "error",
     "traceback": [
      "\u001b[1;31m---------------------------------------------------------------------------\u001b[0m",
      "\u001b[1;31mKeyboardInterrupt\u001b[0m                         Traceback (most recent call last)",
      "\u001b[1;32m<ipython-input-123-fc3d4e6bbb19>\u001b[0m in \u001b[0;36m<module>\u001b[1;34m()\u001b[0m\n\u001b[1;32m----> 1\u001b[1;33m \u001b[0mfind_best_standardized\u001b[0m\u001b[1;33m(\u001b[0m\u001b[0mlambdas\u001b[0m\u001b[1;33m,\u001b[0m \u001b[0mxs_standardized\u001b[0m\u001b[1;33m)\u001b[0m\u001b[1;33m\u001b[0m\u001b[0m\n\u001b[0m",
      "\u001b[1;32m<ipython-input-118-5e56dd741796>\u001b[0m in \u001b[0;36mfind_best_standardized\u001b[1;34m(lambdas, xs_standardized)\u001b[0m\n\u001b[0;32m      8\u001b[0m                 \u001b[0mstds\u001b[0m \u001b[1;33m=\u001b[0m \u001b[1;33m[\u001b[0m\u001b[1;33m]\u001b[0m\u001b[1;33m\u001b[0m\u001b[0m\n\u001b[0;32m      9\u001b[0m                 \u001b[1;32mfor\u001b[0m \u001b[0m_\u001b[0m \u001b[1;32min\u001b[0m \u001b[0mrange\u001b[0m\u001b[1;33m(\u001b[0m\u001b[0miters\u001b[0m\u001b[1;33m)\u001b[0m\u001b[1;33m:\u001b[0m\u001b[1;33m\u001b[0m\u001b[0m\n\u001b[1;32m---> 10\u001b[1;33m                     \u001b[0mscore\u001b[0m\u001b[1;33m,\u001b[0m \u001b[0mstd\u001b[0m \u001b[1;33m=\u001b[0m \u001b[0mcross_validation_ridge\u001b[0m\u001b[1;33m(\u001b[0m\u001b[0my\u001b[0m\u001b[1;33m,\u001b[0m \u001b[0mx\u001b[0m\u001b[1;33m,\u001b[0m \u001b[0mk_fold\u001b[0m\u001b[1;33m,\u001b[0m \u001b[0mlambda_\u001b[0m\u001b[1;33m)\u001b[0m\u001b[1;33m\u001b[0m\u001b[0m\n\u001b[0m\u001b[0;32m     11\u001b[0m                     \u001b[0mscores\u001b[0m\u001b[1;33m.\u001b[0m\u001b[0mappend\u001b[0m\u001b[1;33m(\u001b[0m\u001b[0mscore\u001b[0m\u001b[1;33m)\u001b[0m\u001b[1;33m\u001b[0m\u001b[0m\n\u001b[0;32m     12\u001b[0m                     \u001b[0mstds\u001b[0m\u001b[1;33m.\u001b[0m\u001b[0mappend\u001b[0m\u001b[1;33m(\u001b[0m\u001b[0mstd\u001b[0m\u001b[1;33m)\u001b[0m\u001b[1;33m\u001b[0m\u001b[0m\n",
      "\u001b[1;32m<ipython-input-113-7110841cb1fb>\u001b[0m in \u001b[0;36mcross_validation_ridge\u001b[1;34m(y_train, x_train, k_fold, lambda_, seed)\u001b[0m\n\u001b[0;32m      1\u001b[0m \u001b[1;32mdef\u001b[0m \u001b[0mcross_validation_ridge\u001b[0m\u001b[1;33m(\u001b[0m\u001b[0my_train\u001b[0m\u001b[1;33m,\u001b[0m \u001b[0mx_train\u001b[0m\u001b[1;33m,\u001b[0m \u001b[0mk_fold\u001b[0m\u001b[1;33m,\u001b[0m \u001b[0mlambda_\u001b[0m\u001b[1;33m,\u001b[0m \u001b[0mseed\u001b[0m\u001b[1;33m=\u001b[0m\u001b[0mnp\u001b[0m\u001b[1;33m.\u001b[0m\u001b[0mrandom\u001b[0m\u001b[1;33m.\u001b[0m\u001b[0mseed\u001b[0m\u001b[1;33m(\u001b[0m\u001b[1;33m)\u001b[0m\u001b[1;33m)\u001b[0m\u001b[1;33m:\u001b[0m\u001b[1;33m\u001b[0m\u001b[0m\n\u001b[0;32m      2\u001b[0m     \u001b[0mtest_losses\u001b[0m \u001b[1;33m=\u001b[0m \u001b[1;33m[\u001b[0m\u001b[1;33m]\u001b[0m\u001b[1;33m\u001b[0m\u001b[0m\n\u001b[1;32m----> 3\u001b[1;33m     \u001b[1;32mfor\u001b[0m \u001b[0mx_tr\u001b[0m\u001b[1;33m,\u001b[0m \u001b[0mx_va\u001b[0m\u001b[1;33m,\u001b[0m \u001b[0my_tr\u001b[0m\u001b[1;33m,\u001b[0m \u001b[0my_va\u001b[0m \u001b[1;32min\u001b[0m \u001b[0mbuild_k_fold_sets\u001b[0m\u001b[1;33m(\u001b[0m\u001b[0my_train\u001b[0m\u001b[1;33m,\u001b[0m \u001b[0mx_train\u001b[0m\u001b[1;33m,\u001b[0m \u001b[0mk_fold\u001b[0m\u001b[1;33m,\u001b[0m \u001b[0mseed\u001b[0m\u001b[1;33m)\u001b[0m\u001b[1;33m:\u001b[0m\u001b[1;33m\u001b[0m\u001b[0m\n\u001b[0m\u001b[0;32m      4\u001b[0m         \u001b[0mw\u001b[0m \u001b[1;33m=\u001b[0m \u001b[0mridge_regression\u001b[0m\u001b[1;33m(\u001b[0m\u001b[0my_tr\u001b[0m\u001b[1;33m,\u001b[0m \u001b[0mx_tr\u001b[0m\u001b[1;33m,\u001b[0m \u001b[0mlambda_\u001b[0m\u001b[1;33m)\u001b[0m\u001b[1;33m\u001b[0m\u001b[0m\n\u001b[0;32m      5\u001b[0m \u001b[1;33m\u001b[0m\u001b[0m\n",
      "\u001b[1;32mC:\\Users\\cleme\\Programming\\Python\\ML_2017\\Projects\\project01\\implementation\\gregunz\\cross_validation.py\u001b[0m in \u001b[0;36mbuild_k_fold_sets\u001b[1;34m(y, x, k_fold, seed)\u001b[0m\n\u001b[0;32m     29\u001b[0m         \u001b[0my_tr\u001b[0m \u001b[1;33m=\u001b[0m \u001b[0my\u001b[0m\u001b[1;33m[\u001b[0m\u001b[0mtr_indices\u001b[0m\u001b[1;33m]\u001b[0m\u001b[1;33m\u001b[0m\u001b[0m\n\u001b[0;32m     30\u001b[0m         \u001b[0mx_va\u001b[0m \u001b[1;33m=\u001b[0m \u001b[0mx\u001b[0m\u001b[1;33m[\u001b[0m\u001b[0mva_indices\u001b[0m\u001b[1;33m]\u001b[0m\u001b[1;33m\u001b[0m\u001b[0m\n\u001b[1;32m---> 31\u001b[1;33m         \u001b[0mx_tr\u001b[0m \u001b[1;33m=\u001b[0m \u001b[0mx\u001b[0m\u001b[1;33m[\u001b[0m\u001b[0mtr_indices\u001b[0m\u001b[1;33m]\u001b[0m\u001b[1;33m\u001b[0m\u001b[0m\n\u001b[0m\u001b[0;32m     32\u001b[0m         \u001b[1;32myield\u001b[0m \u001b[0mx_tr\u001b[0m\u001b[1;33m,\u001b[0m \u001b[0mx_va\u001b[0m\u001b[1;33m,\u001b[0m \u001b[0my_tr\u001b[0m\u001b[1;33m,\u001b[0m \u001b[0my_va\u001b[0m\u001b[1;33m\u001b[0m\u001b[0m\n",
      "\u001b[1;31mKeyboardInterrupt\u001b[0m: "
     ]
    }
   ],
   "source": [
    "find_best_standardized(lambdas, xs_standardized)"
   ]
  },
  {
   "cell_type": "code",
   "execution_count": null,
   "metadata": {
    "collapsed": true
   },
   "outputs": [],
   "source": [
    "lambda_ = 0.001\n",
    "\n",
    "k_fold = 6\n",
    "iters = 2\n",
    "\n",
    "losses = []\n",
    "\n",
    "ys_train = [y_train[mask[:train_size]] for mask in data_masks]\n",
    "\n",
    "for y_tr, x_tr in zip(ys_train, xs_train):\n",
    "    v_losses = []\n",
    "    for _ in range(iters):\n",
    "        loss = cross_validation_ridge(y_tr, x_tr, k_fold, lambda_)\n",
    "        v_losses.extend(loss)\n",
    "    losses.append(np.array(v_losses).mean() * x_tr.shape[0] / train_size)\n",
    "    np_v_losses = np.array(v_losses)\n",
    "    \n",
    "    print(\"Test Error Mean = {}\".format(np_v_losses.mean() * 100))\n",
    "    print(\"Test Error St.D = {}\".format(np_v_losses.std() * 100))\n",
    "    \n",
    "np_losses = np.array(losses)\n",
    "print(\"Final Test Error = {}\".format(np_losses.sum() * 100))"
   ]
  }
 ],
 "metadata": {
  "kernelspec": {
   "display_name": "Python 3",
   "language": "python",
   "name": "python3"
  },
  "language_info": {
   "codemirror_mode": {
    "name": "ipython",
    "version": 3
   },
   "file_extension": ".py",
   "mimetype": "text/x-python",
   "name": "python",
   "nbconvert_exporter": "python",
   "pygments_lexer": "ipython3",
   "version": "3.6.1"
  }
 },
 "nbformat": 4,
 "nbformat_minor": 2
}
