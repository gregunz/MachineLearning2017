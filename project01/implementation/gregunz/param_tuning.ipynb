{
 "cells": [
  {
   "cell_type": "code",
   "execution_count": 1,
   "metadata": {
    "collapsed": true
   },
   "outputs": [],
   "source": [
    "import numpy as np\n",
    "import itertools as it\n",
    "import sys\n",
    "\n",
    "from helpers import *\n",
    "\n",
    "from tqdm import tqdm\n",
    "from implementations import *\n",
    "from cross_validation import build_k_fold_sets\n",
    "from feature_eng import *\n",
    "from data_cleaning import replace_invalid\n",
    "from plots import display_features\n",
    "\n",
    "import matplotlib.pyplot as plt\n",
    "%matplotlib inline"
   ]
  },
  {
   "cell_type": "code",
   "execution_count": 2,
   "metadata": {
    "collapsed": true
   },
   "outputs": [],
   "source": [
    "y_train, x_brute_train, _ = load_csv_data(\"../data/train.csv\")"
   ]
  },
  {
   "cell_type": "code",
   "execution_count": 3,
   "metadata": {
    "collapsed": true
   },
   "outputs": [],
   "source": [
    "y_test, x_brute_test, _ = load_csv_data(\"../data/test.csv\")"
   ]
  },
  {
   "cell_type": "code",
   "execution_count": 4,
   "metadata": {},
   "outputs": [
    {
     "data": {
      "text/plain": [
       "(818238, 30)"
      ]
     },
     "execution_count": 4,
     "metadata": {},
     "output_type": "execute_result"
    }
   ],
   "source": [
    "x_brute = np.concatenate((x_brute_train, x_brute_test))\n",
    "x_brute.shape"
   ]
  },
  {
   "cell_type": "code",
   "execution_count": 5,
   "metadata": {},
   "outputs": [
    {
     "data": {
      "text/plain": [
       "(818238, 30)"
      ]
     },
     "execution_count": 5,
     "metadata": {},
     "output_type": "execute_result"
    }
   ],
   "source": [
    "mask_invalid = x_brute == -999.0\n",
    "x_replaced_invalid = replace_invalid(x_brute, mask_invalid, replace_by=\"mean\")\n",
    "x_replaced_invalid.shape"
   ]
  },
  {
   "cell_type": "code",
   "execution_count": 6,
   "metadata": {
    "collapsed": true
   },
   "outputs": [],
   "source": [
    "def verify_masks(masks):\n",
    "    total = 0\n",
    "    for mask in masks:\n",
    "        total += mask.sum()\n",
    "    assert total == x_brute.shape[0]\n",
    "    return len(masks)"
   ]
  },
  {
   "cell_type": "code",
   "execution_count": 7,
   "metadata": {},
   "outputs": [
    {
     "data": {
      "text/plain": [
       "(30,)"
      ]
     },
     "execution_count": 7,
     "metadata": {},
     "output_type": "execute_result"
    }
   ],
   "source": [
    "x_min_values = np.ma.array(x_brute, mask=mask_invalid).min(axis=0)\n",
    "x_min_values.shape"
   ]
  },
  {
   "cell_type": "code",
   "execution_count": 8,
   "metadata": {},
   "outputs": [
    {
     "data": {
      "text/plain": [
       "2"
      ]
     },
     "execution_count": 8,
     "metadata": {},
     "output_type": "execute_result"
    }
   ],
   "source": [
    "limit = 2.7\n",
    "masks_feat_8 = [\n",
    "    np.log(x_replaced_invalid - x_min_values + 1)[:, 8] <= limit,\n",
    "    np.log(x_replaced_invalid - x_min_values + 1)[:, 8] > limit\n",
    "]\n",
    "\n",
    "verify_masks(masks_feat_8)"
   ]
  },
  {
   "cell_type": "code",
   "execution_count": 9,
   "metadata": {},
   "outputs": [
    {
     "data": {
      "text/plain": [
       "3"
      ]
     },
     "execution_count": 9,
     "metadata": {},
     "output_type": "execute_result"
    }
   ],
   "source": [
    "masks_feat_22 = [\n",
    "    x_replaced_invalid[:, 22] == 0,\n",
    "    x_replaced_invalid[:, 22] == 1,\n",
    "    x_replaced_invalid[:, 22] > 1\n",
    "]\n",
    "\n",
    "verify_masks(masks_feat_22)"
   ]
  },
  {
   "cell_type": "code",
   "execution_count": 10,
   "metadata": {},
   "outputs": [
    {
     "name": "stdout",
     "output_type": "stream",
     "text": [
      "192086\n",
      "133623\n",
      "92524\n",
      "135285\n",
      "119259\n",
      "145461\n"
     ]
    },
    {
     "data": {
      "text/plain": [
       "6"
      ]
     },
     "execution_count": 10,
     "metadata": {},
     "output_type": "execute_result"
    }
   ],
   "source": [
    "data_masks = []\n",
    "for mask_i in masks_feat_8:\n",
    "    for mask_j in masks_feat_22:\n",
    "        data_masks.append(mask_i & mask_j)\n",
    "        print((mask_i & mask_j).sum())\n",
    "        \n",
    "verify_masks(data_masks)"
   ]
  },
  {
   "cell_type": "code",
   "execution_count": 11,
   "metadata": {
    "collapsed": true
   },
   "outputs": [],
   "source": [
    "def range_mask(length, seq):\n",
    "    return np.array([i in seq for i in range(length)])"
   ]
  },
  {
   "cell_type": "code",
   "execution_count": 12,
   "metadata": {
    "collapsed": true
   },
   "outputs": [],
   "source": [
    "invalid_features_mask = [mask_invalid[mask].sum(axis=0) != mask.sum() for mask in data_masks]"
   ]
  },
  {
   "cell_type": "code",
   "execution_count": 13,
   "metadata": {},
   "outputs": [
    {
     "data": {
      "text/plain": [
       "[(192086, 18),\n",
       " (133623, 22),\n",
       " (92524, 30),\n",
       " (135285, 18),\n",
       " (119259, 22),\n",
       " (145461, 30)]"
      ]
     },
     "execution_count": 13,
     "metadata": {},
     "output_type": "execute_result"
    }
   ],
   "source": [
    "xs_replaced_invalid = []\n",
    "xs_features_mask = []\n",
    "\n",
    "for idx, mask in enumerate(data_masks):\n",
    "    # remove features containing only invalid features\n",
    "    mask_1 = invalid_features_mask[idx]\n",
    "    # & remove features with std being 0 (because of conditioning over feature 22 f.ex.)\n",
    "    mask_2 =  x_replaced_invalid[mask].std(axis=0) != 0\n",
    "    \n",
    "    features_mask = mask_1 & mask_2\n",
    "    \n",
    "    xs_features_mask.append(features_mask)\n",
    "    xs_replaced_invalid.append(x_replaced_invalid[mask][:, features_mask])\n",
    "    \n",
    "[x.shape for x in xs_replaced_invalid]"
   ]
  },
  {
   "cell_type": "code",
   "execution_count": 14,
   "metadata": {},
   "outputs": [
    {
     "data": {
      "text/plain": [
       "[(192086, 18),\n",
       " (133623, 22),\n",
       " (92524, 30),\n",
       " (135285, 18),\n",
       " (119259, 22),\n",
       " (145461, 30)]"
      ]
     },
     "execution_count": 14,
     "metadata": {},
     "output_type": "execute_result"
    }
   ],
   "source": [
    "xs_brute = [x_brute[data_mask][:, f_mask] for data_mask, f_mask in zip(data_masks, xs_features_mask)]\n",
    "\n",
    "[x.shape for x in xs_brute]"
   ]
  },
  {
   "cell_type": "code",
   "execution_count": 15,
   "metadata": {},
   "outputs": [
    {
     "data": {
      "text/plain": [
       "[(192086, 10),\n",
       " (133623, 12),\n",
       " (92524, 16),\n",
       " (135285, 12),\n",
       " (119259, 12),\n",
       " (145461, 16)]"
      ]
     },
     "execution_count": 15,
     "metadata": {},
     "output_type": "execute_result"
    }
   ],
   "source": [
    "xs_log = []\n",
    "\n",
    "for x in xs_replaced_invalid:\n",
    "    mask_negative_values = ~np.any(x <= 0, axis=0)\n",
    "    non_negative_features = x[:, mask_negative_values]\n",
    "\n",
    "    xs_log.append(np.log(non_negative_features))\n",
    "    \n",
    "[f.shape for f in xs_log]"
   ]
  },
  {
   "cell_type": "code",
   "execution_count": 16,
   "metadata": {},
   "outputs": [
    {
     "data": {
      "text/plain": [
       "[(192086, 28),\n",
       " (133623, 34),\n",
       " (92524, 46),\n",
       " (135285, 30),\n",
       " (119259, 34),\n",
       " (145461, 46)]"
      ]
     },
     "execution_count": 16,
     "metadata": {},
     "output_type": "execute_result"
    }
   ],
   "source": [
    "xs_mix = [np.concatenate((x1, x2), axis=1) for x1, x2 in zip(xs_replaced_invalid, xs_log)]\n",
    "\n",
    "[f.shape for f in xs_mix]"
   ]
  },
  {
   "cell_type": "code",
   "execution_count": 17,
   "metadata": {},
   "outputs": [
    {
     "data": {
      "text/plain": [
       "[(192086, 24),\n",
       " (133623, 31),\n",
       " (92524, 41),\n",
       " (135285, 19),\n",
       " (119259, 30),\n",
       " (145461, 38)]"
      ]
     },
     "execution_count": 17,
     "metadata": {},
     "output_type": "execute_result"
    }
   ],
   "source": [
    "mix_to_mask = [[4,7,20,21],\n",
    " [4, 11, 25],\n",
    " [9, 10, 15, 23, 38],\n",
    " [0, 1, 7, 8, 12, 15, 22, 25, 26, 28, 29],\n",
    " [9, 12, 23, 31],\n",
    " [2, 4, 24, 25, 27, 29, 37, 44]]\n",
    "\n",
    "\n",
    "xs_mix_best_only = [x[:, ~range_mask(x.shape[1], m)] for x, m in zip(xs_mix, mix_to_mask)]\n",
    "\n",
    "[f.shape for f in xs_mix_best_only]"
   ]
  },
  {
   "cell_type": "code",
   "execution_count": 18,
   "metadata": {},
   "outputs": [
    {
     "data": {
      "text/plain": [
       "[(192086, 24),\n",
       " (133623, 31),\n",
       " (92524, 41),\n",
       " (135285, 19),\n",
       " (119259, 30),\n",
       " (145461, 38)]"
      ]
     },
     "execution_count": 18,
     "metadata": {},
     "output_type": "execute_result"
    }
   ],
   "source": [
    "xs_standardized = [standardize(x) for x in xs_mix_best_only]\n",
    "\n",
    "[x.shape for x in xs_standardized]"
   ]
  },
  {
   "cell_type": "code",
   "execution_count": 19,
   "metadata": {},
   "outputs": [
    {
     "name": "stderr",
     "output_type": "stream",
     "text": [
      "6it [00:22,  3.70s/it]\n"
     ]
    },
    {
     "data": {
      "text/plain": [
       "[(192086, 288),\n",
       " (133623, 372),\n",
       " (92524, 492),\n",
       " (135285, 228),\n",
       " (119259, 360),\n",
       " (145461, 456)]"
      ]
     },
     "execution_count": 19,
     "metadata": {},
     "output_type": "execute_result"
    }
   ],
   "source": [
    "degrees =  [11] * len(data_masks)\n",
    "poly_features = [build_poly(x, degree) for x, degree in tqdm(zip(xs_standardized, degrees), ncols=100)]\n",
    "\n",
    "[f.shape for f in poly_features]"
   ]
  },
  {
   "cell_type": "code",
   "execution_count": 20,
   "metadata": {},
   "outputs": [
    {
     "data": {
      "text/plain": [
       "[58823, 40904, 28236, 41090, 36640, 44307]"
      ]
     },
     "execution_count": 20,
     "metadata": {},
     "output_type": "execute_result"
    }
   ],
   "source": [
    "train_size, test_size = x_brute_train.shape[0], x_brute_test.shape[0]\n",
    "train_mask = np.r_[[True] * train_size, [False] * test_size]\n",
    "xs_train_size = [(mask & train_mask).sum() for mask in data_masks]\n",
    "\n",
    "[size for size in xs_train_size]"
   ]
  },
  {
   "cell_type": "code",
   "execution_count": null,
   "metadata": {
    "collapsed": true
   },
   "outputs": [],
   "source": []
  },
  {
   "cell_type": "markdown",
   "metadata": {},
   "source": [
    "# Parameters tuning"
   ]
  },
  {
   "cell_type": "code",
   "execution_count": 21,
   "metadata": {
    "collapsed": true
   },
   "outputs": [],
   "source": [
    "def to_csv(scores, params, masks, filename):    \n",
    "    with open(filename, \"a\", encoding=\"utf8\") as output_file:\n",
    "        writer = csv.writer(output_file, delimiter=',')\n",
    "        writer.writerows(zip(scores, params, masks))"
   ]
  },
  {
   "cell_type": "code",
   "execution_count": 22,
   "metadata": {
    "collapsed": true
   },
   "outputs": [],
   "source": [
    "class Remember:\n",
    "    \n",
    "    def __init__(self, n):\n",
    "        self.remember_n = n\n",
    "        self.best_scores = [0] * n\n",
    "        self.best_masks = [(-1,)] * n\n",
    "        self.best_params = [None] * n\n",
    "        \n",
    "    def reset(self):\n",
    "        self.best_scores = [0] * self.remember_n\n",
    "        self.best_masks = [(-1,)] * self.remember_n\n",
    "        self.best_params = [None] * self.remember_n\n",
    "    \n",
    "    def add_score(self, score, mask_index, params):    \n",
    "        min_score = np.array(self.best_scores).min()\n",
    "        if min_score < score:\n",
    "            idx = self.best_scores.index(min_score)\n",
    "            \n",
    "            self.best_scores[idx] = score\n",
    "            self.best_masks[idx] = mask_index\n",
    "            self.best_params[idx] = params\n",
    "            #print(\"new high score = {s} with params = {p}\".format(s=score, p=params))\n",
    "            return True\n",
    "        return False\n",
    "    \n",
    "    def best_mask(self):\n",
    "        max_score = np.array(self.best_scores).max()\n",
    "        idx = self.best_scores.index(max_score)\n",
    "        return self.best_masks[idx]"
   ]
  },
  {
   "cell_type": "code",
   "execution_count": 23,
   "metadata": {
    "collapsed": true
   },
   "outputs": [],
   "source": []
  },
  {
   "cell_type": "code",
   "execution_count": 24,
   "metadata": {
    "collapsed": true
   },
   "outputs": [],
   "source": [
    "def range_mask(length, seq):\n",
    "    return np.array([i in seq for i in range(length)])\n",
    "def create_masks(length, size, exceptions=(-1,)):\n",
    "    combinations = list(it.combinations(range(length), size))\n",
    "    masks = [ ~range_mask(length, mask + exceptions) for mask in combinations]\n",
    "    masks.append(~range_mask(length, list(exceptions)))\n",
    "    return masks\n",
    "\n",
    "def poly_mask_from_to(idx):\n",
    "    return (xs_standardized[idx].shape[1] * 2, poly_features[idx].shape[1])\n",
    "\n",
    "def combinations_features_from_to(idx):\n",
    "    return (0, combinations_features[idx].shape[1])"
   ]
  },
  {
   "cell_type": "code",
   "execution_count": 25,
   "metadata": {
    "collapsed": true
   },
   "outputs": [],
   "source": [
    "ys_train = [y_train[mask[:train_size]] for mask in data_masks]"
   ]
  },
  {
   "cell_type": "code",
   "execution_count": 2,
   "metadata": {
    "collapsed": true
   },
   "outputs": [],
   "source": [
    "#personal_lambdas = [1e-04, 5e-05, 1e-05, 0.1, 5e-05, 1e-04]\n",
    "#personal_masks = [(4, 7), (25, 4), (10,), (22,29), (23,), (4, 44)]"
   ]
  },
  {
   "cell_type": "code",
   "execution_count": 4,
   "metadata": {},
   "outputs": [
    {
     "ename": "NameError",
     "evalue": "name 'np' is not defined",
     "output_type": "error",
     "traceback": [
      "\u001b[1;31m---------------------------------------------------------------------------\u001b[0m",
      "\u001b[1;31mNameError\u001b[0m                                 Traceback (most recent call last)",
      "\u001b[1;32m<ipython-input-4-bcdc0dfb694c>\u001b[0m in \u001b[0;36m<module>\u001b[1;34m()\u001b[0m\n\u001b[1;32m----> 1\u001b[1;33m \u001b[0mnp\u001b[0m\u001b[1;33m.\u001b[0m\u001b[0mrandom\u001b[0m\u001b[1;33m(\u001b[0m\u001b[1;33m)\u001b[0m\u001b[1;33m\u001b[0m\u001b[0m\n\u001b[0m",
      "\u001b[1;31mNameError\u001b[0m: name 'np' is not defined"
     ]
    }
   ],
   "source": [
    "np.random."
   ]
  },
  {
   "cell_type": "code",
   "execution_count": null,
   "metadata": {
    "collapsed": true
   },
   "outputs": [],
   "source": [
    "def find_useless_features(xs):\n",
    "    seed = np.random()\n",
    "    for "
   ]
  },
  {
   "cell_type": "code",
   "execution_count": 27,
   "metadata": {
    "collapsed": true
   },
   "outputs": [],
   "source": [
    "def find_best_standardized(lambdas, xs_standardized):\n",
    "    mask_size = 1\n",
    "    remember_size = 10   \n",
    "    rem = Remember(remember_size)\n",
    "    personal_masks = [[-1] for _ in range(len(data_masks))]\n",
    "    masks_incomplete = [True] * len(data_masks)\n",
    "    while(np.array(masks_incomplete).sum() > 0):\n",
    "        for x_idx, (y, x) in tqdm(enumerate(zip(ys_train, xs_standardized)), ncols=100):\n",
    "            rem.reset()\n",
    "            if(masks_incomplete[x_idx]):\n",
    "                for lambda_ in lambdas:\n",
    "                    for m_idx, m in enumerate(create_masks(x.shape[1], mask_size, tuple(personal_masks[x_idx]))):\n",
    "                        \n",
    "                        # computing best scores and storing them\n",
    "                        scores = []\n",
    "                        stds = []\n",
    "                        for _ in range(iters):\n",
    "                            score, std = cross_validation_ridge(y, x[:, m], k_fold, lambda_)\n",
    "                            scores.append(score)\n",
    "                            stds.append(std)\n",
    "                        score = np.array(scores).mean()\n",
    "                        std = np.array(std).mean()\n",
    "                        params = [lambda_, m]\n",
    "                        \n",
    "                        rem.add_score(score, m_idx, params)\n",
    "\n",
    "                # add best mask if it improves the score\n",
    "                best_mask = rem.best_mask()\n",
    "                if(best_mask < x.shape[1] and best_mask not in personal_masks[x_idx]): # this works only if mask_size = 1\n",
    "                    to_csv(rem.best_scores, rem.best_params, rem.best_masks, \"data/tuning/best_std_{i}_{s}-{pm}.csv\".format(i=x_idx+1, s=mask_size, pm=personal_masks[x_idx]))\n",
    "                    personal_masks[x_idx].append(best_mask)\n",
    "                else:\n",
    "                    masks_incomplete[x_idx] = False\n",
    "                             \n"
   ]
  },
  {
   "cell_type": "code",
   "execution_count": 29,
   "metadata": {
    "collapsed": true
   },
   "outputs": [],
   "source": [
    "k_fold = 5\n",
    "iters = 2\n",
    "\n",
    "lambdas = [0.1, 0.05, 0.01, 0.005, 0.001, 0.0005, 0.0001, 0.00005, 0.00001]\n",
    "\n",
    "#find_best_standardized(lambdas, xs_standardized)"
   ]
  },
  {
   "cell_type": "code",
   "execution_count": 30,
   "metadata": {
    "collapsed": true
   },
   "outputs": [],
   "source": [
    "def list_to_csv(ls, filename):\n",
    "    with open(filename, \"a\", encoding=\"utf8\") as output_file:\n",
    "        wr = csv.writer(output_file, delimiter=\",\")\n",
    "        wr.writerow(ls)"
   ]
  },
  {
   "cell_type": "code",
   "execution_count": 31,
   "metadata": {
    "collapsed": true
   },
   "outputs": [],
   "source": [
    "def mean_score_ridge(y, x, k_fold, lambda_, iters):\n",
    "    scores = []\n",
    "    for _ in range(iters):\n",
    "        score, _ = cross_validation_ridge(y, x, k_fold, lambda_)\n",
    "        scores.append(score)\n",
    "    return np.array(scores).mean()"
   ]
  },
  {
   "cell_type": "code",
   "execution_count": 34,
   "metadata": {
    "collapsed": true
   },
   "outputs": [],
   "source": [
    "def find_best_combinations():\n",
    "    \n",
    "    #functions = [np.multiply, lambda a, b: np.abs(a - b), lambda a, b: np.power(a - b, 2)]\n",
    "    #functions_name = [\"mult\", \"abs_sub\", \"square_dif\"]\n",
    "    \n",
    "    # non-symmetric functions\n",
    "    #functions = [np.divide]\n",
    "    #functions_name = [\"div\"]\n",
    "    \n",
    "    \n",
    "\n",
    "                    comb = fn(x[:, i], x[:, j]).reshape(x.shape[0], 1)\n",
    "                    mask_indices = (i, j)\n",
    "\n",
    "                    score_without = mean_score_ridge(y, x, k_fold, lambda_, iters)\n",
    "                    x_with = np.concatenate((x, comb), axis=1)\n",
    "                    score_with = mean_score_ridge(y, x_with, k_fold, lambda_, iters)\n",
    "\n",
    "                    impr = score_with - score_without\n",
    "\n",
    "                    if(impr > 0.01):\n",
    "                        good_combinations.append((impr, tuple(mask_indices)))\n",
    "\n",
    "                list_to_csv([impr for impr, m in good_combinations], \"data/tuning/best_{f}_{i}.csv\".format(f=fn_name, i=x_idx))\n",
    "                list_to_csv([m for impr, m in good_combinations], \"data/tuning/best_{f}_{i}.csv\".format(f=fn_name, i=x_idx))"
   ]
  },
  {
   "cell_type": "code",
   "execution_count": 35,
   "metadata": {},
   "outputs": [
    {
     "name": "stderr",
     "output_type": "stream",
     "text": [
      "100%|█████████████████████████████████████████████████████████████| 361/361 [03:28<00:00,  1.73it/s]\n",
      "100%|█████████████████████████████████████████████████████████████| 900/900 [10:45<00:00,  1.39it/s]\n",
      "100%|███████████████████████████████████████████████████████████| 1444/1444 [24:12<00:00,  1.01s/it]\n"
     ]
    }
   ],
   "source": [
    "k_fold = 4\n",
    "iters = 5\n",
    "lambdas = [ 1e-05, 5e-05, 5e-05, 1e-03, 1e-05, 1e-04 ]\n",
    "\n",
    "find_best_combinations()"
   ]
  },
  {
   "cell_type": "code",
   "execution_count": 38,
   "metadata": {},
   "outputs": [
    {
     "data": {
      "text/plain": [
       "[[(1, 0), (3, 4), (4, 3), (6, 0), (13, 0), (16, 0), (17, 0), (22, 0)],\n",
       " [(16, 19), (19, 16), (29, 30), (30, 29)],\n",
       " [],\n",
       " [(1, 3), (3, 1), (15, 16), (16, 15)],\n",
       " [(16, 19), (19, 16), (28, 29), (29, 28)],\n",
       " [(6, 20),\n",
       "  (6, 35),\n",
       "  (7, 20),\n",
       "  (7, 35),\n",
       "  (19, 20),\n",
       "  (19, 35),\n",
       "  (20, 35),\n",
       "  (22, 20),\n",
       "  (22, 35),\n",
       "  (27, 20),\n",
       "  (27, 35),\n",
       "  (29, 20),\n",
       "  (29, 35),\n",
       "  (30, 20),\n",
       "  (30, 35),\n",
       "  (34, 20),\n",
       "  (34, 35),\n",
       "  (35, 20),\n",
       "  (37, 20),\n",
       "  (37, 35)]]"
      ]
     },
     "execution_count": 38,
     "metadata": {},
     "output_type": "execute_result"
    }
   ],
   "source": [
    "\n",
    "build_combinations(\"div\", 0.5)"
   ]
  },
  {
   "cell_type": "code",
   "execution_count": null,
   "metadata": {
    "collapsed": true
   },
   "outputs": [],
   "source": [
    "def grid_search_parameters(parameters):\n",
    "    [assert type p == list for p in parameters]\n",
    "    for p in parameters:\n",
    "        "
   ]
  },
  {
   "cell_type": "code",
   "execution_count": null,
   "metadata": {
    "collapsed": true
   },
   "outputs": [],
   "source": []
  },
  {
   "cell_type": "code",
   "execution_count": null,
   "metadata": {
    "collapsed": true
   },
   "outputs": [],
   "source": []
  }
 ],
 "metadata": {
  "kernelspec": {
   "display_name": "Python 3",
   "language": "python",
   "name": "python3"
  },
  "language_info": {
   "codemirror_mode": {
    "name": "ipython",
    "version": 3
   },
   "file_extension": ".py",
   "mimetype": "text/x-python",
   "name": "python",
   "nbconvert_exporter": "python",
   "pygments_lexer": "ipython3",
   "version": "3.6.1"
  }
 },
 "nbformat": 4,
 "nbformat_minor": 2
}
