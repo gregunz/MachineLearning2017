{
 "cells": [
  {
   "cell_type": "code",
   "execution_count": 1,
   "metadata": {},
   "outputs": [],
   "source": [
    "import numpy as np\n",
    "\n",
    "from helpers import *\n",
    "from implementations import ridge_regression\n",
    "from cross_validation import cross_validation_ridge\n",
    "from functions import abs_dif, mult\n",
    "from feature_eng import build_x\n",
    "from predictions import predict_labels"
   ]
  },
  {
   "cell_type": "code",
   "execution_count": 2,
   "metadata": {},
   "outputs": [],
   "source": [
    "# Loading the data sets\n",
    "y_train, x_brute_train, _ = load_csv_data(\"../data/train.csv\")\n",
    "_, x_brute_test, indices_test = load_csv_data(\"../data/test.csv\")\n",
    "x_brute = np.concatenate((x_brute_train, x_brute_test))\n",
    "train_size = x_brute_train.shape[0]\n",
    "test_size = x_brute_test.shape[0]\n",
    "\n",
    "# Constants\n",
    "PHI_features = [15, 18, 20, 25, 28]\n",
    "invalid_value = -999\n",
    "\n",
    "# Mask to subdivide in different models\n",
    "# Mask for the data (rows)\n",
    "data_masks = [\n",
    "    x_brute[:, 22] == 0,\n",
    "    x_brute[:, 22] == 1,\n",
    "    x_brute[:, 22] > 1\n",
    "]\n",
    "num_models = len(data_masks)\n",
    "\n",
    "# Mask for the features (columns)\n",
    "features_masks = [(x_brute[m].std(axis=0) != 0) & np.any(x_brute[m] != -999., axis=0) & ~range_mask(30, PHI_features) for m in data_masks]\n",
    "\n",
    "# Separate X and Y using the masks\n",
    "ys_train = [y_train[mask[:train_size]] for mask in data_masks]\n",
    "xs_brute_train = [x_brute_train[d_m[:train_size]][:, f_m] for d_m, f_m in zip(data_masks, features_masks)]\n",
    "xs_brute_test = [x_brute_test[d_m[train_size:]][:, f_m] for d_m, f_m in zip(data_masks, features_masks)]"
   ]
  },
  {
   "cell_type": "code",
   "execution_count": 21,
   "metadata": {},
   "outputs": [],
   "source": [
    "lambdas = [5e-04, 1e-05, 5e-03]\n",
    "k_fold = 4\n",
    "\n",
    "num_models = len(data_masks)\n",
    "# Models variables\n",
    "degrees = [9, 11, 12]\n",
    "roots = [3, 4, 3]\n",
    "tanh_degrees = [3, 4, 3]\n",
    "log_degrees = [3, 4, 3]\n",
    "inv_log_degrees = [3, 4, 3]\n",
    "fn_tanh = [True] * num_models\n",
    "fn_log = [False] * num_models\n",
    "fn_inv_log = [True] * num_models\n",
    "functions = [[mult, abs_dif],] * num_models\n",
    "\n",
    "def build_ith_x(i):\n",
    "     return build_x(xs_brute_train[i], xs_brute_test[i], degrees[i], roots[i], log_degree=log_degrees[i], tanh_degree=tanh_degrees[i],\n",
    "                    inv_log_degree=inv_log_degrees[i], fn_log=fn_log[i], fn_inv_log=fn_inv_log[i], fn_tanh=fn_tanh[i],\n",
    "                    functions=functions[i], print_=True)"
   ]
  },
  {
   "cell_type": "markdown",
   "metadata": {},
   "source": [
    "# Cross Validation"
   ]
  },
  {
   "cell_type": "code",
   "execution_count": 22,
   "metadata": {
    "scrolled": false
   },
   "outputs": [
    {
     "name": "stdout",
     "output_type": "stream",
     "text": [
      "9 3 3 3 3 False True True [<function mult at 0x7fac3c0adae8>, <function abs_dif at 0x7fac3c0ada60>]\n",
      "Starting pre-processing\n",
      "Starting poly\n",
      "Starting combinations\n",
      "Final shape: (327371, 2281)\n",
      "x[0] DONE\n",
      "11 4 4 4 4 False True True [<function mult at 0x7fac3c0adae8>, <function abs_dif at 0x7fac3c0ada60>]\n",
      "Starting pre-processing\n",
      "Starting poly\n",
      "Starting combinations\n",
      "Final shape: (252882, 3331)\n",
      "x[1] DONE\n",
      "12 3 3 3 3 False True True [<function mult at 0x7fac3c0adae8>, <function abs_dif at 0x7fac3c0ada60>]\n",
      "Starting pre-processing\n",
      "Starting poly\n",
      "Starting combinations\n",
      "Final shape: (237985, 6126)\n",
      "x[2] DONE\n"
     ]
    },
    {
     "data": {
      "text/plain": [
       "[85.164444711345979, 81.747137109254112, 85.027570995312928]"
      ]
     },
     "execution_count": 22,
     "metadata": {},
     "output_type": "execute_result"
    }
   ],
   "source": [
    "final_scores = []\n",
    "ys_sub = []\n",
    "iters = 2\n",
    "for i in range(len(data_masks)):\n",
    "    x_train, x_test = build_ith_x(i)\n",
    "    print(\"x[{}] DONE\".format(i))\n",
    "\n",
    "    w, _ = ridge_regression(ys_train[i], x_train, lambdas[i])\n",
    "    ys_sub.append(predict_labels(w, x_test))\n",
    "    \n",
    "    scores = []\n",
    "    for it in range(iters):\n",
    "        score = cross_validation_ridge(ys_train[i], x_train, k_fold, lambdas[i], seed=100+it)\n",
    "        score *= 100\n",
    "        scores.append(score)\n",
    "        \n",
    "    final_scores.append(np.mean(scores))\n",
    "\n",
    "\n",
    "    del x_train\n",
    "    del x_test\n",
    "\n",
    "final_scores"
   ]
  },
  {
   "cell_type": "code",
   "execution_count": 23,
   "metadata": {},
   "outputs": [
    {
     "data": {
      "text/plain": [
       "[85.164444711345979, 81.747137109254112, 85.027570995312928]"
      ]
     },
     "execution_count": 23,
     "metadata": {},
     "output_type": "execute_result"
    }
   ],
   "source": [
    "final_scores"
   ]
  },
  {
   "cell_type": "code",
   "execution_count": 24,
   "metadata": {},
   "outputs": [],
   "source": [
    "def avg_score(scores):\n",
    "    return (np.array(final_scores) * np.array(data_masks).T.sum(axis=0)  / (train_size + test_size)).sum()"
   ]
  },
  {
   "cell_type": "code",
   "execution_count": 25,
   "metadata": {},
   "outputs": [
    {
     "data": {
      "text/plain": [
       "84.068492833845397"
      ]
     },
     "execution_count": 25,
     "metadata": {},
     "output_type": "execute_result"
    }
   ],
   "source": [
    "avg_score(final_scores)"
   ]
  },
  {
   "cell_type": "markdown",
   "metadata": {},
   "source": [
    "# Submission"
   ]
  },
  {
   "cell_type": "code",
   "execution_count": 26,
   "metadata": {},
   "outputs": [],
   "source": [
    "y_submission = np.zeros(test_size)\n",
    "for y, mask in zip(ys_sub, data_masks):\n",
    "    mask = mask[train_size:]\n",
    "    y_submission[mask] = y\n",
    "    \n",
    "create_csv_submission(indices_test, y_submission, \"submissions/final_sub_03.csv\")"
   ]
  }
 ],
 "metadata": {
  "kernelspec": {
   "display_name": "Python 3",
   "language": "python",
   "name": "python3"
  },
  "language_info": {
   "codemirror_mode": {
    "name": "ipython",
    "version": 3
   },
   "file_extension": ".py",
   "mimetype": "text/x-python",
   "name": "python",
   "nbconvert_exporter": "python",
   "pygments_lexer": "ipython3",
   "version": "3.6.3"
  }
 },
 "nbformat": 4,
 "nbformat_minor": 2
}
