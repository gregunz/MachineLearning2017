{
 "cells": [
  {
   "cell_type": "code",
   "execution_count": 1,
   "metadata": {
    "collapsed": true
   },
   "outputs": [],
   "source": [
    "import matplotlib.pyplot as plt\n",
    "import numpy as np\n",
    "\n",
    "from helpers import *\n",
    "from implementations import ridge_regression\n",
    "from cross_validation import cross_validation_ridge\n",
    "from functions import abs_dif, mult \n",
    "from feature_eng import build_x\n",
    "from predictions import predict_labels"
   ]
  },
  {
   "cell_type": "code",
   "execution_count": 2,
   "metadata": {
    "collapsed": true
   },
   "outputs": [],
   "source": [
    "# Loading the data sets\n",
    "y_train, x_brute_train, _ = load_csv_data(\"../data/train.csv\")\n",
    "_, x_brute_test, indices_test = load_csv_data(\"../data/test.csv\")\n",
    "x_brute = np.concatenate((x_brute_train, x_brute_test))\n",
    "train_size = x_brute_train.shape[0]\n",
    "test_size = x_brute_test.shape[0]\n",
    "\n",
    "# Constants\n",
    "PHI_features = [15, 18, 20, 25, 28]\n",
    "invalid_value = -999\n",
    "\n",
    "# Mask to subdivide in different models\n",
    "# Mask for the data (rows)\n",
    "data_masks = [\n",
    "    x_brute[:, 22] == 0,\n",
    "    x_brute[:, 22] == 1,\n",
    "    x_brute[:, 22] > 1\n",
    "]\n",
    "num_models = len(data_masks)\n",
    "\n",
    "# Mask for the features (columns)\n",
    "features_masks = [(x_brute[m].std(axis=0) != 0) & np.any(x_brute[m] != -999., axis=0) & ~range_mask(30, PHI_features) for m in data_masks]\n",
    "\n",
    "# Separate X and Y using the masks\n",
    "ys_train = [y_train[mask[:train_size]] for mask in data_masks]\n",
    "xs_brute_train = [x_brute_train[d_m[:train_size]][:, f_m] for d_m, f_m in zip(data_masks, features_masks)]\n",
    "xs_brute_test = [x_brute_test[d_m[train_size:]][:, f_m] for d_m, f_m in zip(data_masks, features_masks)]"
   ]
  },
  {
   "cell_type": "code",
   "execution_count": 3,
   "metadata": {
    "collapsed": true
   },
   "outputs": [],
   "source": [
    "# FINAL PARAMETERS\n",
    "\n",
    "num_models = len(data_masks)\n",
    "degrees = [9, 11, 12]\n",
    "roots = [3, 4, 3]\n",
    "tanh_degrees = [3, 4, 3]\n",
    "log_degrees = [3, 4, 3]\n",
    "inv_log_degrees = [3, 4, 3]\n",
    "fn_tanh = [True] * num_models\n",
    "fn_log = [False] * num_models\n",
    "fn_inv_log = [True] * num_models\n",
    "functions = [[mult, abs_dif],] * num_models\n",
    "\n",
    "def build_ith_x(i):\n",
    "     return build_x(xs_brute_train[i], xs_brute_test[i], degrees[i], roots[i], log_degree=log_degrees[i], tanh_degree=tanh_degrees[i],\n",
    "                    inv_log_degree=inv_log_degrees[i], fn_log=fn_log[i], fn_inv_log=fn_inv_log[i], fn_tanh=fn_tanh[i],\n",
    "                    functions=functions[i], print_=True)"
   ]
  },
  {
   "cell_type": "markdown",
   "metadata": {},
   "source": [
    "# PLOTS"
   ]
  },
  {
   "cell_type": "code",
   "execution_count": 6,
   "metadata": {
    "collapsed": true
   },
   "outputs": [],
   "source": [
    "def box_plot(data, xlabel, positions, filename=None):\n",
    "    plt.figure(figsize=(15,8))\n",
    "    if filename != None:\n",
    "        np.savetxt(\"matrices/{}.npy\".format(filename), data)\n",
    "        plt.savefig(\"plots/{}.png\".format(filename))\n",
    "    \n",
    "    plt.boxplot(data, 0, '', showmeans=False, labels=positions)\n",
    "    plt.xlabel(xlabel)\n",
    "    plt.show()"
   ]
  },
  {
   "cell_type": "markdown",
   "metadata": {},
   "source": [
    "## LAMBDA"
   ]
  },
  {
   "cell_type": "code",
   "execution_count": 18,
   "metadata": {},
   "outputs": [
    {
     "name": "stdout",
     "output_type": "stream",
     "text": [
      "12 3 3 3 3 False True True [<function mult at 0x7f3758370b70>, <function abs_dif at 0x7f3758370ae8>]\n",
      "Starting pre-processing\n",
      "Starting poly\n",
      "Starting combinations\n",
      "Final shape: (237985, 6126)\n",
      "12 3 3 3 3 False True True [<function mult at 0x7f3758370b70>, <function abs_dif at 0x7f3758370ae8>]\n",
      "Starting pre-processing\n",
      "Starting poly\n",
      "Starting combinations\n",
      "Final shape: (237985, 6126)\n",
      "12 3 3 3 3 False True True [<function mult at 0x7f3758370b70>, <function abs_dif at 0x7f3758370ae8>]\n",
      "Starting pre-processing\n",
      "Starting poly\n",
      "Starting combinations\n",
      "Final shape: (237985, 6126)\n",
      "12 3 3 3 3 False True True [<function mult at 0x7f3758370b70>, <function abs_dif at 0x7f3758370ae8>]\n",
      "Starting pre-processing\n",
      "Starting poly\n",
      "Starting combinations\n",
      "Final shape: (237985, 6126)\n",
      "12 3 3 3 3 False True True [<function mult at 0x7f3758370b70>, <function abs_dif at 0x7f3758370ae8>]\n",
      "Starting pre-processing\n",
      "Starting poly\n",
      "Starting combinations\n",
      "Final shape: (237985, 6126)\n",
      "12 3 3 3 3 False True True [<function mult at 0x7f3758370b70>, <function abs_dif at 0x7f3758370ae8>]\n",
      "Starting pre-processing\n",
      "Starting poly\n",
      "Starting combinations\n",
      "Final shape: (237985, 6126)\n",
      "12 3 3 3 3 False True True [<function mult at 0x7f3758370b70>, <function abs_dif at 0x7f3758370ae8>]\n",
      "Starting pre-processing\n",
      "Starting poly\n",
      "Starting combinations\n",
      "Final shape: (237985, 6126)\n",
      "12 3 3 3 3 False True True [<function mult at 0x7f3758370b70>, <function abs_dif at 0x7f3758370ae8>]\n",
      "Starting pre-processing\n",
      "Starting poly\n",
      "Starting combinations\n",
      "Final shape: (237985, 6126)\n",
      "12 3 3 3 3 False True True [<function mult at 0x7f3758370b70>, <function abs_dif at 0x7f3758370ae8>]\n",
      "Starting pre-processing\n",
      "Starting poly\n",
      "Starting combinations\n",
      "Final shape: (237985, 6126)\n",
      "12 3 3 3 3 False True True [<function mult at 0x7f3758370b70>, <function abs_dif at 0x7f3758370ae8>]\n",
      "Starting pre-processing\n",
      "Starting poly\n",
      "Starting combinations\n",
      "Final shape: (237985, 6126)\n",
      "12 3 3 3 3 False True True [<function mult at 0x7f3758370b70>, <function abs_dif at 0x7f3758370ae8>]\n",
      "Starting pre-processing\n",
      "Starting poly\n",
      "Starting combinations\n",
      "Final shape: (237985, 6126)\n",
      "12 3 3 3 3 False True True [<function mult at 0x7f3758370b70>, <function abs_dif at 0x7f3758370ae8>]\n",
      "Starting pre-processing\n",
      "Starting poly\n",
      "Starting combinations\n",
      "Final shape: (237985, 6126)\n",
      "12 3 3 3 3 False True True [<function mult at 0x7f3758370b70>, <function abs_dif at 0x7f3758370ae8>]\n",
      "Starting pre-processing\n",
      "Starting poly\n",
      "Starting combinations\n",
      "Final shape: (237985, 6126)\n",
      "12 3 3 3 3 False True True [<function mult at 0x7f3758370b70>, <function abs_dif at 0x7f3758370ae8>]\n",
      "Starting pre-processing\n",
      "Starting poly\n",
      "Starting combinations\n",
      "Final shape: (237985, 6126)\n",
      "12 3 3 3 3 False True True [<function mult at 0x7f3758370b70>, <function abs_dif at 0x7f3758370ae8>]\n",
      "Starting pre-processing\n",
      "Starting poly\n",
      "Starting combinations\n",
      "Final shape: (237985, 6126)\n"
     ]
    }
   ],
   "source": [
    "model_selected = 2\n",
    "lambdas_tuning = np.logspace(-8, -1, 15)\n",
    "\n",
    "lambdas_tuning_scores = []\n",
    "iters = 2\n",
    "k_fold = 4\n",
    "\n",
    "for lambda_ in lambdas_tuning:\n",
    "    x_train, _ = build_ith_x(model_selected)\n",
    "    scores = []\n",
    "    for it in range(iters):\n",
    "        score = cross_validation_ridge(ys_train[model_selected], x_train, k_fold, lambda_, seed=100+it)\n",
    "        scores.extend(score)\n",
    "    lambdas_tuning_scores.append(scores)\n",
    "    "
   ]
  },
  {
   "cell_type": "code",
   "execution_count": 19,
   "metadata": {},
   "outputs": [
    {
     "data": {
      "image/png": "[encoded data removed]",
      "text/plain": [
       "<matplotlib.figure.Figure at 0x7f370e7b5a20>"
      ]
     },
     "metadata": {},
     "output_type": "display_data"
    }
   ],
   "source": [
    "box_plot(np.array(lambdas_tuning_scores).T, positions=[\"{:.2E}\".format(l) for l in lambdas_tuning], xlabel=\"lambdas\", filename=\"lambdas_tuning_model-{}\".format(model_selected))"
   ]
  },
  {
   "cell_type": "code",
   "execution_count": 18,
   "metadata": {},
   "outputs": [
    {
     "data": {
      "image/png": "[encoded data removed]",
      "text/plain": [
       "<matplotlib.figure.Figure at 0x19d3bcd7668>"
      ]
     },
     "metadata": {},
     "output_type": "display_data"
    }
   ],
   "source": [
    "\n",
    "lambdas_tuning = np.logspace(-8, -1, 15)\n",
    "box_plot(np.array(lambda_tuning_scores).reshape(8, 15), positions=[\"{:.2E}\".format(l) for l in lambdas_tuning], xlabel=\"lambdas\", filename=\" ewbdas_tuning_model-{}\".format(1))"
   ]
  },
  {
   "cell_type": "code",
   "execution_count": null,
   "metadata": {
    "collapsed": true
   },
   "outputs": [],
   "source": []
  },
  {
   "cell_type": "markdown",
   "metadata": {},
   "source": [
    "## DEGREE"
   ]
  },
  {
   "cell_type": "code",
   "execution_count": null,
   "metadata": {
    "collapsed": true
   },
   "outputs": [],
   "source": [
    "model_selected = 1\n",
    "lambda_ = 1e-03\n",
    "\n",
    "degrees_tuning = range(1, 15)\n",
    "degrees_tuning_scores = []\n",
    "\n",
    "for deg in degrees_tuning:\n",
    "    degrees = [deg] * 3\n",
    "    \n",
    "    x_train, _ = build_ith_x(model_selected)\n",
    "    scores = []\n",
    "    for it in range(iters):\n",
    "        score = cross_validation_ridge(ys_train[model_selected], x_train, k_fold, lambda_, seed=100+it)\n",
    "        scores.extend(score)\n",
    "    degrees_tuning_scores.append(scores)\n",
    "    "
   ]
  },
  {
   "cell_type": "code",
   "execution_count": null,
   "metadata": {
    "collapsed": true
   },
   "outputs": [],
   "source": [
    "box_plot(np.array(degrees_tuning_scores)[:-3].T, xlabel=\"degrees\", positions=degrees_tuning[:-3], filename=\"degrees_tuning_model-{}\".format(model_selected))"
   ]
  },
  {
   "cell_type": "markdown",
   "metadata": {},
   "source": [
    "## Different Models"
   ]
  },
  {
   "cell_type": "code",
   "execution_count": null,
   "metadata": {
    "collapsed": true
   },
   "outputs": [],
   "source": [
    "# FINAL PARAMETERS\n",
    "\n",
    "num_models = len(data_masks)\n",
    "degrees = [9, 11, 12]\n",
    "roots = [3, 4, 3]\n",
    "tanh_degrees = [3, 4, 3]\n",
    "log_degrees = [3, 4, 3]\n",
    "inv_log_degrees = [3, 4, 3]\n",
    "fn_tanh = [True] * num_models\n",
    "fn_log = [False] * num_models\n",
    "fn_inv_log = [True] * num_models\n",
    "functions = [[mult, abs_dif],] * num_models\n",
    "\n",
    "def build_ith_x(i):\n",
    "     return build_x(xs_brute_train[i], xs_brute_test[i], degrees[i], roots[i], log_degree=log_degrees[i], tanh_degree=tanh_degrees[i],\n",
    "                    inv_log_degree=inv_log_degrees[i], fn_log=fn_log[i], fn_inv_log=fn_inv_log[i], fn_tanh=fn_tanh[i],\n",
    "                    functions=functions[i], print_=True)"
   ]
  }
 ],
 "metadata": {
  "kernelspec": {
   "display_name": "Python 3",
   "language": "python",
   "name": "python3"
  },
  "language_info": {
   "codemirror_mode": {
    "name": "ipython",
    "version": 3
   },
   "file_extension": ".py",
   "mimetype": "text/x-python",
   "name": "python",
   "nbconvert_exporter": "python",
   "pygments_lexer": "ipython3",
   "version": "3.6.1"
  }
 },
 "nbformat": 4,
 "nbformat_minor": 2
}
